{
  "nbformat": 4,
  "nbformat_minor": 0,
  "metadata": {
    "colab": {
      "name": "Untitled8.ipynb",
      "provenance": []
    },
    "kernelspec": {
      "name": "python3",
      "display_name": "Python 3"
    },
    "language_info": {
      "name": "python"
    }
  },
  "cells": [
    {
      "cell_type": "code",
      "metadata": {
        "id": "-jJpuQTfa7jL",
        "colab": {
          "resources": {
            "http://localhost:8080/nbextensions/google.colab/files.js": {
              "data": "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",
              "ok": true,
              "headers": [
                [
                  "content-type",
                  "application/javascript"
                ]
              ],
              "status": 200,
              "status_text": ""
            }
          },
          "base_uri": "https://localhost:8080/",
          "height": 73
        },
        "outputId": "acce7817-7d94-4d65-9810-11d975cd2f7f"
      },
      "source": [
        "import pandas as pd\n",
        "import numpy as np\n",
        "import matplotlib.pyplot as plt\n",
        "import seaborn as sns\n",
        "plt.style.use('fivethirtyeight')\n",
        "import seaborn as sns\n",
        "from sklearn.manifold import TSNE\n",
        "from mpl_toolkits.mplot3d import Axes3D\n",
        "\n",
        "from sklearn import preprocessing\n",
        "from sklearn.decomposition import PCA\n",
        "\n",
        "from sklearn.cluster import KMeans\n",
        "from sklearn.ensemble import IsolationForest\n",
        "from sklearn.svm import OneClassSVM\n",
        "from google.colab import files\n",
        "uploaded = files.upload()"
      ],
      "execution_count": 181,
      "outputs": [
        {
          "output_type": "display_data",
          "data": {
            "text/html": [
              "\n",
              "     <input type=\"file\" id=\"files-a0df5310-a67d-464b-ba4d-9b0ab0d2c2a3\" name=\"files[]\" multiple disabled\n",
              "        style=\"border:none\" />\n",
              "     <output id=\"result-a0df5310-a67d-464b-ba4d-9b0ab0d2c2a3\">\n",
              "      Upload widget is only available when the cell has been executed in the\n",
              "      current browser session. Please rerun this cell to enable.\n",
              "      </output>\n",
              "      <script src=\"/nbextensions/google.colab/files.js\"></script> "
            ],
            "text/plain": [
              "<IPython.core.display.HTML object>"
            ]
          },
          "metadata": {
            "tags": []
          }
        },
        {
          "output_type": "stream",
          "text": [
            "Saving finaldata.csv to finaldata (4).csv\n"
          ],
          "name": "stdout"
        }
      ]
    },
    {
      "cell_type": "code",
      "metadata": {
        "colab": {
          "base_uri": "https://localhost:8080/",
          "height": 402
        },
        "id": "ybKsSVWXcJtF",
        "outputId": "37d15f82-ff41-4734-88db-47e07e132ba3"
      },
      "source": [
        "df=pd.read_csv(\"finaldata.csv\")\n",
        "df"
      ],
      "execution_count": 182,
      "outputs": [
        {
          "output_type": "execute_result",
          "data": {
            "text/html": [
              "<div>\n",
              "<style scoped>\n",
              "    .dataframe tbody tr th:only-of-type {\n",
              "        vertical-align: middle;\n",
              "    }\n",
              "\n",
              "    .dataframe tbody tr th {\n",
              "        vertical-align: top;\n",
              "    }\n",
              "\n",
              "    .dataframe thead th {\n",
              "        text-align: right;\n",
              "    }\n",
              "</style>\n",
              "<table border=\"1\" class=\"dataframe\">\n",
              "  <thead>\n",
              "    <tr style=\"text-align: right;\">\n",
              "      <th></th>\n",
              "      <th>IP</th>\n",
              "      <th>Total Requests</th>\n",
              "      <th>Daily Mean</th>\n",
              "      <th>GET requests</th>\n",
              "      <th>Successful requests</th>\n",
              "      <th>Mean Return Size</th>\n",
              "      <th>Return Size Std</th>\n",
              "      <th>Mean Time Difference</th>\n",
              "    </tr>\n",
              "  </thead>\n",
              "  <tbody>\n",
              "    <tr>\n",
              "      <th>0</th>\n",
              "      <td>100.16.135.233</td>\n",
              "      <td>5</td>\n",
              "      <td>5.0</td>\n",
              "      <td>5</td>\n",
              "      <td>4</td>\n",
              "      <td>9.865200e+03</td>\n",
              "      <td>1.135730e+04</td>\n",
              "      <td>0.250000</td>\n",
              "    </tr>\n",
              "    <tr>\n",
              "      <th>1</th>\n",
              "      <td>101.32.34.206</td>\n",
              "      <td>6</td>\n",
              "      <td>6.0</td>\n",
              "      <td>6</td>\n",
              "      <td>5</td>\n",
              "      <td>1.109425e+06</td>\n",
              "      <td>2.693437e+06</td>\n",
              "      <td>5.600000</td>\n",
              "    </tr>\n",
              "    <tr>\n",
              "      <th>2</th>\n",
              "      <td>101.89.239.238</td>\n",
              "      <td>1</td>\n",
              "      <td>1.0</td>\n",
              "      <td>1</td>\n",
              "      <td>1</td>\n",
              "      <td>8.249000e+05</td>\n",
              "      <td>0.000000e+00</td>\n",
              "      <td>0.000000</td>\n",
              "    </tr>\n",
              "    <tr>\n",
              "      <th>3</th>\n",
              "      <td>101.91.227.154</td>\n",
              "      <td>1</td>\n",
              "      <td>1.0</td>\n",
              "      <td>1</td>\n",
              "      <td>0</td>\n",
              "      <td>3.280000e+02</td>\n",
              "      <td>0.000000e+00</td>\n",
              "      <td>0.000000</td>\n",
              "    </tr>\n",
              "    <tr>\n",
              "      <th>4</th>\n",
              "      <td>103.152.221.226</td>\n",
              "      <td>1</td>\n",
              "      <td>1.0</td>\n",
              "      <td>1</td>\n",
              "      <td>1</td>\n",
              "      <td>2.131600e+05</td>\n",
              "      <td>0.000000e+00</td>\n",
              "      <td>0.000000</td>\n",
              "    </tr>\n",
              "    <tr>\n",
              "      <th>...</th>\n",
              "      <td>...</td>\n",
              "      <td>...</td>\n",
              "      <td>...</td>\n",
              "      <td>...</td>\n",
              "      <td>...</td>\n",
              "      <td>...</td>\n",
              "      <td>...</td>\n",
              "      <td>...</td>\n",
              "    </tr>\n",
              "    <tr>\n",
              "      <th>410</th>\n",
              "      <td>89.86.32.26</td>\n",
              "      <td>2</td>\n",
              "      <td>2.0</td>\n",
              "      <td>2</td>\n",
              "      <td>2</td>\n",
              "      <td>1.773600e+04</td>\n",
              "      <td>1.439669e+04</td>\n",
              "      <td>0.000000</td>\n",
              "    </tr>\n",
              "    <tr>\n",
              "      <th>411</th>\n",
              "      <td>91.183.152.182</td>\n",
              "      <td>12</td>\n",
              "      <td>12.0</td>\n",
              "      <td>12</td>\n",
              "      <td>9</td>\n",
              "      <td>6.282333e+03</td>\n",
              "      <td>8.599698e+03</td>\n",
              "      <td>0.363636</td>\n",
              "    </tr>\n",
              "    <tr>\n",
              "      <th>412</th>\n",
              "      <td>93.65.170.88</td>\n",
              "      <td>5</td>\n",
              "      <td>5.0</td>\n",
              "      <td>5</td>\n",
              "      <td>3</td>\n",
              "      <td>9.792800e+03</td>\n",
              "      <td>1.142108e+04</td>\n",
              "      <td>0.250000</td>\n",
              "    </tr>\n",
              "    <tr>\n",
              "      <th>413</th>\n",
              "      <td>94.231.255.203</td>\n",
              "      <td>5</td>\n",
              "      <td>5.0</td>\n",
              "      <td>5</td>\n",
              "      <td>4</td>\n",
              "      <td>9.865200e+03</td>\n",
              "      <td>1.135730e+04</td>\n",
              "      <td>0.000000</td>\n",
              "    </tr>\n",
              "    <tr>\n",
              "      <th>414</th>\n",
              "      <td>96.19.92.93</td>\n",
              "      <td>5</td>\n",
              "      <td>5.0</td>\n",
              "      <td>5</td>\n",
              "      <td>4</td>\n",
              "      <td>9.869400e+03</td>\n",
              "      <td>1.135599e+04</td>\n",
              "      <td>0.500000</td>\n",
              "    </tr>\n",
              "  </tbody>\n",
              "</table>\n",
              "<p>415 rows × 8 columns</p>\n",
              "</div>"
            ],
            "text/plain": [
              "                  IP  Total Requests  ...  Return Size Std  Mean Time Difference\n",
              "0     100.16.135.233               5  ...     1.135730e+04              0.250000\n",
              "1      101.32.34.206               6  ...     2.693437e+06              5.600000\n",
              "2     101.89.239.238               1  ...     0.000000e+00              0.000000\n",
              "3     101.91.227.154               1  ...     0.000000e+00              0.000000\n",
              "4    103.152.221.226               1  ...     0.000000e+00              0.000000\n",
              "..               ...             ...  ...              ...                   ...\n",
              "410      89.86.32.26               2  ...     1.439669e+04              0.000000\n",
              "411   91.183.152.182              12  ...     8.599698e+03              0.363636\n",
              "412     93.65.170.88               5  ...     1.142108e+04              0.250000\n",
              "413   94.231.255.203               5  ...     1.135730e+04              0.000000\n",
              "414      96.19.92.93               5  ...     1.135599e+04              0.500000\n",
              "\n",
              "[415 rows x 8 columns]"
            ]
          },
          "metadata": {
            "tags": []
          },
          "execution_count": 182
        }
      ]
    },
    {
      "cell_type": "code",
      "metadata": {
        "colab": {
          "base_uri": "https://localhost:8080/",
          "height": 195
        },
        "id": "lilA3cHQcNVl",
        "outputId": "10b44b69-6173-4c1d-de15-fffcbef50efe"
      },
      "source": [
        "df.head()"
      ],
      "execution_count": 183,
      "outputs": [
        {
          "output_type": "execute_result",
          "data": {
            "text/html": [
              "<div>\n",
              "<style scoped>\n",
              "    .dataframe tbody tr th:only-of-type {\n",
              "        vertical-align: middle;\n",
              "    }\n",
              "\n",
              "    .dataframe tbody tr th {\n",
              "        vertical-align: top;\n",
              "    }\n",
              "\n",
              "    .dataframe thead th {\n",
              "        text-align: right;\n",
              "    }\n",
              "</style>\n",
              "<table border=\"1\" class=\"dataframe\">\n",
              "  <thead>\n",
              "    <tr style=\"text-align: right;\">\n",
              "      <th></th>\n",
              "      <th>IP</th>\n",
              "      <th>Total Requests</th>\n",
              "      <th>Daily Mean</th>\n",
              "      <th>GET requests</th>\n",
              "      <th>Successful requests</th>\n",
              "      <th>Mean Return Size</th>\n",
              "      <th>Return Size Std</th>\n",
              "      <th>Mean Time Difference</th>\n",
              "    </tr>\n",
              "  </thead>\n",
              "  <tbody>\n",
              "    <tr>\n",
              "      <th>0</th>\n",
              "      <td>100.16.135.233</td>\n",
              "      <td>5</td>\n",
              "      <td>5.0</td>\n",
              "      <td>5</td>\n",
              "      <td>4</td>\n",
              "      <td>9865.2</td>\n",
              "      <td>1.135730e+04</td>\n",
              "      <td>0.25</td>\n",
              "    </tr>\n",
              "    <tr>\n",
              "      <th>1</th>\n",
              "      <td>101.32.34.206</td>\n",
              "      <td>6</td>\n",
              "      <td>6.0</td>\n",
              "      <td>6</td>\n",
              "      <td>5</td>\n",
              "      <td>1109425.0</td>\n",
              "      <td>2.693437e+06</td>\n",
              "      <td>5.60</td>\n",
              "    </tr>\n",
              "    <tr>\n",
              "      <th>2</th>\n",
              "      <td>101.89.239.238</td>\n",
              "      <td>1</td>\n",
              "      <td>1.0</td>\n",
              "      <td>1</td>\n",
              "      <td>1</td>\n",
              "      <td>824900.0</td>\n",
              "      <td>0.000000e+00</td>\n",
              "      <td>0.00</td>\n",
              "    </tr>\n",
              "    <tr>\n",
              "      <th>3</th>\n",
              "      <td>101.91.227.154</td>\n",
              "      <td>1</td>\n",
              "      <td>1.0</td>\n",
              "      <td>1</td>\n",
              "      <td>0</td>\n",
              "      <td>328.0</td>\n",
              "      <td>0.000000e+00</td>\n",
              "      <td>0.00</td>\n",
              "    </tr>\n",
              "    <tr>\n",
              "      <th>4</th>\n",
              "      <td>103.152.221.226</td>\n",
              "      <td>1</td>\n",
              "      <td>1.0</td>\n",
              "      <td>1</td>\n",
              "      <td>1</td>\n",
              "      <td>213160.0</td>\n",
              "      <td>0.000000e+00</td>\n",
              "      <td>0.00</td>\n",
              "    </tr>\n",
              "  </tbody>\n",
              "</table>\n",
              "</div>"
            ],
            "text/plain": [
              "                IP  Total Requests  ...  Return Size Std  Mean Time Difference\n",
              "0   100.16.135.233               5  ...     1.135730e+04                  0.25\n",
              "1    101.32.34.206               6  ...     2.693437e+06                  5.60\n",
              "2   101.89.239.238               1  ...     0.000000e+00                  0.00\n",
              "3   101.91.227.154               1  ...     0.000000e+00                  0.00\n",
              "4  103.152.221.226               1  ...     0.000000e+00                  0.00\n",
              "\n",
              "[5 rows x 8 columns]"
            ]
          },
          "metadata": {
            "tags": []
          },
          "execution_count": 183
        }
      ]
    },
    {
      "cell_type": "markdown",
      "metadata": {
        "id": "L1aeQyIecQVM"
      },
      "source": [
        "K-Means Algorithm (Using unsupervised learning)"
      ]
    },
    {
      "cell_type": "code",
      "metadata": {
        "colab": {
          "base_uri": "https://localhost:8080/"
        },
        "id": "niv9AVoHcTRq",
        "outputId": "31d32769-801c-4700-b7b6-a176649c035b"
      },
      "source": [
        "df.columns"
      ],
      "execution_count": 184,
      "outputs": [
        {
          "output_type": "execute_result",
          "data": {
            "text/plain": [
              "Index(['IP', 'Total Requests', 'Daily Mean', 'GET requests',\n",
              "       'Successful requests', 'Mean Return Size', 'Return Size Std',\n",
              "       'Mean Time Difference'],\n",
              "      dtype='object')"
            ]
          },
          "metadata": {
            "tags": []
          },
          "execution_count": 184
        }
      ]
    },
    {
      "cell_type": "code",
      "metadata": {
        "id": "Dl2nBwqNcXma"
      },
      "source": [
        "chosen_data = df[['Total Requests', 'Daily Mean', 'GET requests',\n",
        "       'Successful requests', 'Mean Return Size', 'Return Size Std',\n",
        "       'Mean Time Difference']]"
      ],
      "execution_count": 185,
      "outputs": []
    },
    {
      "cell_type": "code",
      "metadata": {
        "colab": {
          "base_uri": "https://localhost:8080/",
          "height": 195
        },
        "id": "AMxH9QM-cZWA",
        "outputId": "af0a4a58-155c-4777-f5f8-605335dae0d7"
      },
      "source": [
        "chosen_data.head()"
      ],
      "execution_count": 186,
      "outputs": [
        {
          "output_type": "execute_result",
          "data": {
            "text/html": [
              "<div>\n",
              "<style scoped>\n",
              "    .dataframe tbody tr th:only-of-type {\n",
              "        vertical-align: middle;\n",
              "    }\n",
              "\n",
              "    .dataframe tbody tr th {\n",
              "        vertical-align: top;\n",
              "    }\n",
              "\n",
              "    .dataframe thead th {\n",
              "        text-align: right;\n",
              "    }\n",
              "</style>\n",
              "<table border=\"1\" class=\"dataframe\">\n",
              "  <thead>\n",
              "    <tr style=\"text-align: right;\">\n",
              "      <th></th>\n",
              "      <th>Total Requests</th>\n",
              "      <th>Daily Mean</th>\n",
              "      <th>GET requests</th>\n",
              "      <th>Successful requests</th>\n",
              "      <th>Mean Return Size</th>\n",
              "      <th>Return Size Std</th>\n",
              "      <th>Mean Time Difference</th>\n",
              "    </tr>\n",
              "  </thead>\n",
              "  <tbody>\n",
              "    <tr>\n",
              "      <th>0</th>\n",
              "      <td>5</td>\n",
              "      <td>5.0</td>\n",
              "      <td>5</td>\n",
              "      <td>4</td>\n",
              "      <td>9865.2</td>\n",
              "      <td>1.135730e+04</td>\n",
              "      <td>0.25</td>\n",
              "    </tr>\n",
              "    <tr>\n",
              "      <th>1</th>\n",
              "      <td>6</td>\n",
              "      <td>6.0</td>\n",
              "      <td>6</td>\n",
              "      <td>5</td>\n",
              "      <td>1109425.0</td>\n",
              "      <td>2.693437e+06</td>\n",
              "      <td>5.60</td>\n",
              "    </tr>\n",
              "    <tr>\n",
              "      <th>2</th>\n",
              "      <td>1</td>\n",
              "      <td>1.0</td>\n",
              "      <td>1</td>\n",
              "      <td>1</td>\n",
              "      <td>824900.0</td>\n",
              "      <td>0.000000e+00</td>\n",
              "      <td>0.00</td>\n",
              "    </tr>\n",
              "    <tr>\n",
              "      <th>3</th>\n",
              "      <td>1</td>\n",
              "      <td>1.0</td>\n",
              "      <td>1</td>\n",
              "      <td>0</td>\n",
              "      <td>328.0</td>\n",
              "      <td>0.000000e+00</td>\n",
              "      <td>0.00</td>\n",
              "    </tr>\n",
              "    <tr>\n",
              "      <th>4</th>\n",
              "      <td>1</td>\n",
              "      <td>1.0</td>\n",
              "      <td>1</td>\n",
              "      <td>1</td>\n",
              "      <td>213160.0</td>\n",
              "      <td>0.000000e+00</td>\n",
              "      <td>0.00</td>\n",
              "    </tr>\n",
              "  </tbody>\n",
              "</table>\n",
              "</div>"
            ],
            "text/plain": [
              "   Total Requests  Daily Mean  ...  Return Size Std  Mean Time Difference\n",
              "0               5         5.0  ...     1.135730e+04                  0.25\n",
              "1               6         6.0  ...     2.693437e+06                  5.60\n",
              "2               1         1.0  ...     0.000000e+00                  0.00\n",
              "3               1         1.0  ...     0.000000e+00                  0.00\n",
              "4               1         1.0  ...     0.000000e+00                  0.00\n",
              "\n",
              "[5 rows x 7 columns]"
            ]
          },
          "metadata": {
            "tags": []
          },
          "execution_count": 186
        }
      ]
    },
    {
      "cell_type": "code",
      "metadata": {
        "id": "JoXB2m4rceAA"
      },
      "source": [
        "min_max_scaler = preprocessing.MinMaxScaler()\n",
        "np_scaled = min_max_scaler.fit_transform(chosen_data)\n",
        "chosen_data = pd.DataFrame(np_scaled, columns=chosen_data.columns)"
      ],
      "execution_count": 187,
      "outputs": []
    },
    {
      "cell_type": "code",
      "metadata": {
        "colab": {
          "base_uri": "https://localhost:8080/",
          "height": 195
        },
        "id": "F1ikvwMnckL5",
        "outputId": "29eb026c-4d08-4ca3-d10b-3191b692034c"
      },
      "source": [
        "chosen_data.head()"
      ],
      "execution_count": 188,
      "outputs": [
        {
          "output_type": "execute_result",
          "data": {
            "text/html": [
              "<div>\n",
              "<style scoped>\n",
              "    .dataframe tbody tr th:only-of-type {\n",
              "        vertical-align: middle;\n",
              "    }\n",
              "\n",
              "    .dataframe tbody tr th {\n",
              "        vertical-align: top;\n",
              "    }\n",
              "\n",
              "    .dataframe thead th {\n",
              "        text-align: right;\n",
              "    }\n",
              "</style>\n",
              "<table border=\"1\" class=\"dataframe\">\n",
              "  <thead>\n",
              "    <tr style=\"text-align: right;\">\n",
              "      <th></th>\n",
              "      <th>Total Requests</th>\n",
              "      <th>Daily Mean</th>\n",
              "      <th>GET requests</th>\n",
              "      <th>Successful requests</th>\n",
              "      <th>Mean Return Size</th>\n",
              "      <th>Return Size Std</th>\n",
              "      <th>Mean Time Difference</th>\n",
              "    </tr>\n",
              "  </thead>\n",
              "  <tbody>\n",
              "    <tr>\n",
              "      <th>0</th>\n",
              "      <td>0.013746</td>\n",
              "      <td>0.027586</td>\n",
              "      <td>0.017123</td>\n",
              "      <td>0.013699</td>\n",
              "      <td>1.754720e-05</td>\n",
              "      <td>0.000051</td>\n",
              "      <td>0.000004</td>\n",
              "    </tr>\n",
              "    <tr>\n",
              "      <th>1</th>\n",
              "      <td>0.017182</td>\n",
              "      <td>0.034483</td>\n",
              "      <td>0.020548</td>\n",
              "      <td>0.017123</td>\n",
              "      <td>2.026899e-03</td>\n",
              "      <td>0.012014</td>\n",
              "      <td>0.000087</td>\n",
              "    </tr>\n",
              "    <tr>\n",
              "      <th>2</th>\n",
              "      <td>0.000000</td>\n",
              "      <td>0.000000</td>\n",
              "      <td>0.003425</td>\n",
              "      <td>0.003425</td>\n",
              "      <td>1.506953e-03</td>\n",
              "      <td>0.000000</td>\n",
              "      <td>0.000000</td>\n",
              "    </tr>\n",
              "    <tr>\n",
              "      <th>3</th>\n",
              "      <td>0.000000</td>\n",
              "      <td>0.000000</td>\n",
              "      <td>0.003425</td>\n",
              "      <td>0.000000</td>\n",
              "      <td>1.187819e-07</td>\n",
              "      <td>0.000000</td>\n",
              "      <td>0.000000</td>\n",
              "    </tr>\n",
              "    <tr>\n",
              "      <th>4</th>\n",
              "      <td>0.000000</td>\n",
              "      <td>0.000000</td>\n",
              "      <td>0.003425</td>\n",
              "      <td>0.003425</td>\n",
              "      <td>3.890510e-04</td>\n",
              "      <td>0.000000</td>\n",
              "      <td>0.000000</td>\n",
              "    </tr>\n",
              "  </tbody>\n",
              "</table>\n",
              "</div>"
            ],
            "text/plain": [
              "   Total Requests  Daily Mean  ...  Return Size Std  Mean Time Difference\n",
              "0        0.013746    0.027586  ...         0.000051              0.000004\n",
              "1        0.017182    0.034483  ...         0.012014              0.000087\n",
              "2        0.000000    0.000000  ...         0.000000              0.000000\n",
              "3        0.000000    0.000000  ...         0.000000              0.000000\n",
              "4        0.000000    0.000000  ...         0.000000              0.000000\n",
              "\n",
              "[5 rows x 7 columns]"
            ]
          },
          "metadata": {
            "tags": []
          },
          "execution_count": 188
        }
      ]
    },
    {
      "cell_type": "code",
      "metadata": {
        "colab": {
          "base_uri": "https://localhost:8080/",
          "height": 282
        },
        "id": "zLmj9VIacoeD",
        "outputId": "32b7ca13-89b2-4499-cc17-935bb8982b7a"
      },
      "source": [
        "n_cluster = range(1, 15)\n",
        "kmeans = [KMeans(n_clusters=i, random_state=42).fit(chosen_data) for i in n_cluster]\n",
        "scores = [kmeans[i].score(chosen_data) for i in range(len(kmeans))]\n",
        "fig, ax = plt.subplots()\n",
        "ax.plot(n_cluster, scores)\n",
        "plt.show()"
      ],
      "execution_count": 189,
      "outputs": [
        {
          "output_type": "display_data",
          "data": {
            "image/png": "[encoded data removed]",
            "text/plain": [
              "<Figure size 432x288 with 1 Axes>"
            ]
          },
          "metadata": {
            "tags": []
          }
        }
      ]
    },
    {
      "cell_type": "code",
      "metadata": {
        "colab": {
          "base_uri": "https://localhost:8080/"
        },
        "id": "e5Qba3TcdYBc",
        "outputId": "c0641c84-96e1-49ca-a08a-7f7ddda0cbef"
      },
      "source": [
        "cluster_model = kmeans[5]\n",
        "df['cluster'] = cluster_model.predict(chosen_data)\n",
        "df['cluster'].value_counts()"
      ],
      "execution_count": 190,
      "outputs": [
        {
          "output_type": "execute_result",
          "data": {
            "text/plain": [
              "0    344\n",
              "5     40\n",
              "2     13\n",
              "1     12\n",
              "4      4\n",
              "3      2\n",
              "Name: cluster, dtype: int64"
            ]
          },
          "metadata": {
            "tags": []
          },
          "execution_count": 190
        }
      ]
    },
    {
      "cell_type": "code",
      "metadata": {
        "colab": {
          "base_uri": "https://localhost:8080/"
        },
        "id": "5XUBAx_zd40o",
        "outputId": "af397179-3fda-4152-f04d-acd43e2b935c"
      },
      "source": [
        "tsne = TSNE(n_components=2, verbose=1, perplexity=40, n_iter=500, random_state=42)\n",
        "tsne_results = tsne.fit_transform(chosen_data)"
      ],
      "execution_count": 191,
      "outputs": [
        {
          "output_type": "stream",
          "text": [
            "[t-SNE] Computing 121 nearest neighbors...\n",
            "[t-SNE] Indexed 415 samples in 0.001s...\n",
            "[t-SNE] Computed neighbors for 415 samples in 0.011s...\n",
            "[t-SNE] Computed conditional probabilities for sample 415 / 415\n",
            "[t-SNE] Mean sigma: 0.000000\n",
            "[t-SNE] KL divergence after 250 iterations with early exaggeration: 52.898361\n",
            "[t-SNE] KL divergence after 500 iterations: 0.123611\n"
          ],
          "name": "stdout"
        }
      ]
    },
    {
      "cell_type": "code",
      "metadata": {
        "id": "oeozivD8epIN"
      },
      "source": [
        "df['tsne-2d-one'] = tsne_results[:,0]\n",
        "df['tsne-2d-two'] = tsne_results[:,1]"
      ],
      "execution_count": 192,
      "outputs": []
    },
    {
      "cell_type": "code",
      "metadata": {
        "id": "E8Z3zL75ex6t"
      },
      "source": [
        "tsne_cluster = df.groupby('cluster').agg({'tsne-2d-one':'mean', 'tsne-2d-two':'mean'}).reset_index()"
      ],
      "execution_count": 193,
      "outputs": []
    },
    {
      "cell_type": "code",
      "metadata": {
        "colab": {
          "base_uri": "https://localhost:8080/",
          "height": 654
        },
        "id": "Z6yn8Jrde2hv",
        "outputId": "58825b42-0a2a-4ac2-8b9b-eb619989b10a"
      },
      "source": [
        "plt.figure(figsize=(20,10))\n",
        "\n",
        "sns.scatterplot(\n",
        "    x=\"tsne-2d-one\", y=\"tsne-2d-two\",\n",
        "    data=df,\n",
        "    hue=\"cluster\",\n",
        "    palette=sns.color_palette(\"hls\", 6),\n",
        "    legend=\"full\",\n",
        "    alpha=1\n",
        ")\n",
        "\n",
        "plt.scatter(x=\"tsne-2d-one\", y=\"tsne-2d-two\", data=tsne_cluster, s=100, c='b')\n",
        "\n",
        "plt.show()"
      ],
      "execution_count": 194,
      "outputs": [
        {
          "output_type": "display_data",
          "data": {
            "image/png": "[encoded data removed]",
            "text/plain": [
              "<Figure size 1440x720 with 1 Axes>"
            ]
          },
          "metadata": {
            "tags": []
          }
        }
      ]
    },
    {
      "cell_type": "code",
      "metadata": {
        "id": "joMMCDLzfPYk"
      },
      "source": [
        "centers = cluster_model.cluster_centers_\n",
        "points = np.asarray(chosen_data)\n",
        "total_distance = pd.Series(dtype='float64')\n"
      ],
      "execution_count": 195,
      "outputs": []
    },
    {
      "cell_type": "code",
      "metadata": {
        "id": "ecOv5Vl0fZ7H"
      },
      "source": [
        "def get_sum_square_distance(data, cluster_model):\n",
        "    centers = cluster_model.cluster_centers_\n",
        "    points = np.asarray(data[chosen_data.columns])\n",
        "    total_distance = pd.Series(dtype='float64')\n",
        "    for i in range(len(points)):\n",
        "        distance = 0\n",
        "        for j in range(len(centers)):\n",
        "            a = np.linalg.norm(points[i] - centers[j])\n",
        "            distance += a**2\n",
        "        total_distance.at[i]= distance\n",
        "    \n",
        "    return total_distance"
      ],
      "execution_count": 196,
      "outputs": []
    },
    {
      "cell_type": "code",
      "metadata": {
        "id": "Be5WpiKPfmEM"
      },
      "source": [
        "df['ssd'] = get_sum_square_distance(chosen_data, cluster_model)"
      ],
      "execution_count": 197,
      "outputs": []
    },
    {
      "cell_type": "code",
      "metadata": {
        "colab": {
          "base_uri": "https://localhost:8080/",
          "height": 568
        },
        "id": "GCKgnz6jj-cK",
        "outputId": "16a0f77a-ce91-4d80-f21d-e48fe4690990"
      },
      "source": [
        "plt.hist(df['ssd'], bins=50)"
      ],
      "execution_count": 198,
      "outputs": [
        {
          "output_type": "execute_result",
          "data": {
            "text/plain": [
              "(array([ 15.,  14.,  94., 269.,   4.,   1.,   1.,   4.,   1.,   0.,   3.,\n",
              "          0.,   2.,   2.,   1.,   0.,   1.,   0.,   0.,   0.,   0.,   1.,\n",
              "          0.,   0.,   0.,   0.,   0.,   0.,   0.,   0.,   0.,   0.,   0.,\n",
              "          0.,   0.,   0.,   0.,   0.,   0.,   0.,   0.,   0.,   1.,   0.,\n",
              "          0.,   0.,   0.,   0.,   0.,   1.]),\n",
              " array([ 4.49638151,  4.8052777 ,  5.11417389,  5.42307008,  5.73196627,\n",
              "         6.04086246,  6.34975865,  6.65865484,  6.96755103,  7.27644722,\n",
              "         7.58534341,  7.8942396 ,  8.20313579,  8.51203198,  8.82092817,\n",
              "         9.12982436,  9.43872055,  9.74761674, 10.05651293, 10.36540912,\n",
              "        10.67430531, 10.9832015 , 11.29209769, 11.60099388, 11.90989007,\n",
              "        12.21878626, 12.52768245, 12.83657864, 13.14547483, 13.45437102,\n",
              "        13.76326721, 14.0721634 , 14.38105959, 14.68995578, 14.99885197,\n",
              "        15.30774816, 15.61664435, 15.92554054, 16.23443673, 16.54333292,\n",
              "        16.85222911, 17.1611253 , 17.47002149, 17.77891768, 18.08781387,\n",
              "        18.39671006, 18.70560625, 19.01450244, 19.32339863, 19.63229482,\n",
              "        19.94119101]),\n",
              " <a list of 50 Patch objects>)"
            ]
          },
          "metadata": {
            "tags": []
          },
          "execution_count": 198
        },
        {
          "output_type": "display_data",
          "data": {
            "image/png": "[encoded data removed]",
            "text/plain": [
              "<Figure size 432x288 with 1 Axes>"
            ]
          },
          "metadata": {
            "tags": []
          }
        }
      ]
    },
    {
      "cell_type": "code",
      "metadata": {
        "id": "Cq6UPGLxkRXn"
      },
      "source": [
        "cutoff = 7.5\n",
        "df['anomaly_kmeans'] = (df['ssd'] >= cutoff).astype(int)"
      ],
      "execution_count": 199,
      "outputs": []
    },
    {
      "cell_type": "code",
      "metadata": {
        "colab": {
          "base_uri": "https://localhost:8080/",
          "height": 322
        },
        "id": "u3jLe8vokYVC",
        "outputId": "2332a700-ecbc-40f3-d9fe-043d6db64bcc"
      },
      "source": [
        "sns.scatterplot(\n",
        "    x=\"tsne-2d-one\", y=\"tsne-2d-two\",\n",
        "    hue=\"anomaly_kmeans\",\n",
        "    data=df,\n",
        "    legend=\"full\",\n",
        "    alpha=1\n",
        ")"
      ],
      "execution_count": 200,
      "outputs": [
        {
          "output_type": "execute_result",
          "data": {
            "text/plain": [
              "<matplotlib.axes._subplots.AxesSubplot at 0x7ff99b5df550>"
            ]
          },
          "metadata": {
            "tags": []
          },
          "execution_count": 200
        },
        {
          "output_type": "display_data",
          "data": {
            "image/png": "[encoded data removed]",
            "text/plain": [
              "<Figure size 432x288 with 1 Axes>"
            ]
          },
          "metadata": {
            "tags": []
          }
        }
      ]
    },
    {
      "cell_type": "code",
      "metadata": {
        "colab": {
          "base_uri": "https://localhost:8080/",
          "height": 419
        },
        "id": "fT0exfk2ki2c",
        "outputId": "1f323c83-a1d0-404f-aa9e-8d93b28e5ed8"
      },
      "source": [
        "df.loc[df['anomaly_kmeans']==1]"
      ],
      "execution_count": 201,
      "outputs": [
        {
          "output_type": "execute_result",
          "data": {
            "text/html": [
              "<div>\n",
              "<style scoped>\n",
              "    .dataframe tbody tr th:only-of-type {\n",
              "        vertical-align: middle;\n",
              "    }\n",
              "\n",
              "    .dataframe tbody tr th {\n",
              "        vertical-align: top;\n",
              "    }\n",
              "\n",
              "    .dataframe thead th {\n",
              "        text-align: right;\n",
              "    }\n",
              "</style>\n",
              "<table border=\"1\" class=\"dataframe\">\n",
              "  <thead>\n",
              "    <tr style=\"text-align: right;\">\n",
              "      <th></th>\n",
              "      <th>IP</th>\n",
              "      <th>Total Requests</th>\n",
              "      <th>Daily Mean</th>\n",
              "      <th>GET requests</th>\n",
              "      <th>Successful requests</th>\n",
              "      <th>Mean Return Size</th>\n",
              "      <th>Return Size Std</th>\n",
              "      <th>Mean Time Difference</th>\n",
              "      <th>cluster</th>\n",
              "      <th>tsne-2d-one</th>\n",
              "      <th>tsne-2d-two</th>\n",
              "      <th>ssd</th>\n",
              "      <th>anomaly_kmeans</th>\n",
              "    </tr>\n",
              "  </thead>\n",
              "  <tbody>\n",
              "    <tr>\n",
              "      <th>108</th>\n",
              "      <td>185.191.171.26</td>\n",
              "      <td>2</td>\n",
              "      <td>2.0</td>\n",
              "      <td>2</td>\n",
              "      <td>2</td>\n",
              "      <td>3.140000e+02</td>\n",
              "      <td>0.000000e+00</td>\n",
              "      <td>58759.000000</td>\n",
              "      <td>1</td>\n",
              "      <td>14.128437</td>\n",
              "      <td>13.909864</td>\n",
              "      <td>8.339868</td>\n",
              "      <td>1</td>\n",
              "    </tr>\n",
              "    <tr>\n",
              "      <th>125</th>\n",
              "      <td>195.191.163.28</td>\n",
              "      <td>7</td>\n",
              "      <td>7.0</td>\n",
              "      <td>7</td>\n",
              "      <td>6</td>\n",
              "      <td>7.846000e+07</td>\n",
              "      <td>2.075582e+08</td>\n",
              "      <td>661.166667</td>\n",
              "      <td>4</td>\n",
              "      <td>-9.146929</td>\n",
              "      <td>4.303019</td>\n",
              "      <td>8.750140</td>\n",
              "      <td>1</td>\n",
              "    </tr>\n",
              "    <tr>\n",
              "      <th>133</th>\n",
              "      <td>202.200.48.117</td>\n",
              "      <td>1</td>\n",
              "      <td>1.0</td>\n",
              "      <td>1</td>\n",
              "      <td>1</td>\n",
              "      <td>5.472215e+08</td>\n",
              "      <td>0.000000e+00</td>\n",
              "      <td>0.000000</td>\n",
              "      <td>0</td>\n",
              "      <td>-11.440982</td>\n",
              "      <td>-3.732212</td>\n",
              "      <td>11.160658</td>\n",
              "      <td>1</td>\n",
              "    </tr>\n",
              "    <tr>\n",
              "      <th>136</th>\n",
              "      <td>220.158.157.182</td>\n",
              "      <td>9</td>\n",
              "      <td>9.0</td>\n",
              "      <td>9</td>\n",
              "      <td>4</td>\n",
              "      <td>6.080910e+07</td>\n",
              "      <td>1.824047e+08</td>\n",
              "      <td>17.875000</td>\n",
              "      <td>4</td>\n",
              "      <td>-9.145062</td>\n",
              "      <td>4.293844</td>\n",
              "      <td>7.727056</td>\n",
              "      <td>1</td>\n",
              "    </tr>\n",
              "    <tr>\n",
              "      <th>139</th>\n",
              "      <td>27.65.252.148</td>\n",
              "      <td>6</td>\n",
              "      <td>6.0</td>\n",
              "      <td>6</td>\n",
              "      <td>5</td>\n",
              "      <td>9.153451e+07</td>\n",
              "      <td>2.241887e+08</td>\n",
              "      <td>13.400000</td>\n",
              "      <td>4</td>\n",
              "      <td>-9.151245</td>\n",
              "      <td>4.291281</td>\n",
              "      <td>9.567791</td>\n",
              "      <td>1</td>\n",
              "    </tr>\n",
              "    <tr>\n",
              "      <th>204</th>\n",
              "      <td>54.36.148.12</td>\n",
              "      <td>2</td>\n",
              "      <td>2.0</td>\n",
              "      <td>2</td>\n",
              "      <td>2</td>\n",
              "      <td>9.576500e+03</td>\n",
              "      <td>1.088732e+04</td>\n",
              "      <td>59506.000000</td>\n",
              "      <td>1</td>\n",
              "      <td>14.146562</td>\n",
              "      <td>13.919206</td>\n",
              "      <td>8.441850</td>\n",
              "      <td>1</td>\n",
              "    </tr>\n",
              "    <tr>\n",
              "      <th>227</th>\n",
              "      <td>54.36.148.17</td>\n",
              "      <td>292</td>\n",
              "      <td>146.0</td>\n",
              "      <td>292</td>\n",
              "      <td>292</td>\n",
              "      <td>1.292700e+04</td>\n",
              "      <td>1.491498e+04</td>\n",
              "      <td>306.278351</td>\n",
              "      <td>3</td>\n",
              "      <td>-3.936702</td>\n",
              "      <td>13.761462</td>\n",
              "      <td>19.941191</td>\n",
              "      <td>1</td>\n",
              "    </tr>\n",
              "    <tr>\n",
              "      <th>278</th>\n",
              "      <td>54.36.148.34</td>\n",
              "      <td>2</td>\n",
              "      <td>2.0</td>\n",
              "      <td>2</td>\n",
              "      <td>2</td>\n",
              "      <td>8.686500e+03</td>\n",
              "      <td>1.044750e+04</td>\n",
              "      <td>64051.000000</td>\n",
              "      <td>1</td>\n",
              "      <td>14.240026</td>\n",
              "      <td>13.967902</td>\n",
              "      <td>9.098096</td>\n",
              "      <td>1</td>\n",
              "    </tr>\n",
              "    <tr>\n",
              "      <th>336</th>\n",
              "      <td>54.36.149.52</td>\n",
              "      <td>2</td>\n",
              "      <td>2.0</td>\n",
              "      <td>2</td>\n",
              "      <td>2</td>\n",
              "      <td>1.224400e+04</td>\n",
              "      <td>1.296551e+04</td>\n",
              "      <td>55131.000000</td>\n",
              "      <td>1</td>\n",
              "      <td>14.026962</td>\n",
              "      <td>13.855875</td>\n",
              "      <td>7.867210</td>\n",
              "      <td>1</td>\n",
              "    </tr>\n",
              "    <tr>\n",
              "      <th>342</th>\n",
              "      <td>54.36.149.61</td>\n",
              "      <td>275</td>\n",
              "      <td>137.5</td>\n",
              "      <td>275</td>\n",
              "      <td>275</td>\n",
              "      <td>1.391965e+04</td>\n",
              "      <td>1.371706e+04</td>\n",
              "      <td>325.156934</td>\n",
              "      <td>3</td>\n",
              "      <td>-3.936007</td>\n",
              "      <td>13.763123</td>\n",
              "      <td>17.776789</td>\n",
              "      <td>1</td>\n",
              "    </tr>\n",
              "    <tr>\n",
              "      <th>363</th>\n",
              "      <td>54.36.149.88</td>\n",
              "      <td>2</td>\n",
              "      <td>2.0</td>\n",
              "      <td>2</td>\n",
              "      <td>2</td>\n",
              "      <td>1.006500e+03</td>\n",
              "      <td>9.892424e+02</td>\n",
              "      <td>52932.000000</td>\n",
              "      <td>1</td>\n",
              "      <td>13.950646</td>\n",
              "      <td>13.811116</td>\n",
              "      <td>7.599635</td>\n",
              "      <td>1</td>\n",
              "    </tr>\n",
              "    <tr>\n",
              "      <th>407</th>\n",
              "      <td>85.2.223.70</td>\n",
              "      <td>7</td>\n",
              "      <td>7.0</td>\n",
              "      <td>7</td>\n",
              "      <td>6</td>\n",
              "      <td>9.329464e+07</td>\n",
              "      <td>2.040082e+08</td>\n",
              "      <td>12.166667</td>\n",
              "      <td>4</td>\n",
              "      <td>-9.148073</td>\n",
              "      <td>4.295875</td>\n",
              "      <td>8.670386</td>\n",
              "      <td>1</td>\n",
              "    </tr>\n",
              "  </tbody>\n",
              "</table>\n",
              "</div>"
            ],
            "text/plain": [
              "                  IP  Total Requests  ...        ssd  anomaly_kmeans\n",
              "108   185.191.171.26               2  ...   8.339868               1\n",
              "125   195.191.163.28               7  ...   8.750140               1\n",
              "133   202.200.48.117               1  ...  11.160658               1\n",
              "136  220.158.157.182               9  ...   7.727056               1\n",
              "139    27.65.252.148               6  ...   9.567791               1\n",
              "204     54.36.148.12               2  ...   8.441850               1\n",
              "227     54.36.148.17             292  ...  19.941191               1\n",
              "278     54.36.148.34               2  ...   9.098096               1\n",
              "336     54.36.149.52               2  ...   7.867210               1\n",
              "342     54.36.149.61             275  ...  17.776789               1\n",
              "363     54.36.149.88               2  ...   7.599635               1\n",
              "407      85.2.223.70               7  ...   8.670386               1\n",
              "\n",
              "[12 rows x 13 columns]"
            ]
          },
          "metadata": {
            "tags": []
          },
          "execution_count": 201
        }
      ]
    },
    {
      "cell_type": "code",
      "metadata": {
        "colab": {
          "base_uri": "https://localhost:8080/",
          "height": 418
        },
        "id": "m0JLI_77km3o",
        "outputId": "efc7ed6f-6dd4-4bab-e0d2-0872bc970493"
      },
      "source": [
        "df.loc[df['anomaly_kmeans']==0]"
      ],
      "execution_count": 202,
      "outputs": [
        {
          "output_type": "execute_result",
          "data": {
            "text/html": [
              "<div>\n",
              "<style scoped>\n",
              "    .dataframe tbody tr th:only-of-type {\n",
              "        vertical-align: middle;\n",
              "    }\n",
              "\n",
              "    .dataframe tbody tr th {\n",
              "        vertical-align: top;\n",
              "    }\n",
              "\n",
              "    .dataframe thead th {\n",
              "        text-align: right;\n",
              "    }\n",
              "</style>\n",
              "<table border=\"1\" class=\"dataframe\">\n",
              "  <thead>\n",
              "    <tr style=\"text-align: right;\">\n",
              "      <th></th>\n",
              "      <th>IP</th>\n",
              "      <th>Total Requests</th>\n",
              "      <th>Daily Mean</th>\n",
              "      <th>GET requests</th>\n",
              "      <th>Successful requests</th>\n",
              "      <th>Mean Return Size</th>\n",
              "      <th>Return Size Std</th>\n",
              "      <th>Mean Time Difference</th>\n",
              "      <th>cluster</th>\n",
              "      <th>tsne-2d-one</th>\n",
              "      <th>tsne-2d-two</th>\n",
              "      <th>ssd</th>\n",
              "      <th>anomaly_kmeans</th>\n",
              "    </tr>\n",
              "  </thead>\n",
              "  <tbody>\n",
              "    <tr>\n",
              "      <th>0</th>\n",
              "      <td>100.16.135.233</td>\n",
              "      <td>5</td>\n",
              "      <td>5.0</td>\n",
              "      <td>5</td>\n",
              "      <td>4</td>\n",
              "      <td>9.865200e+03</td>\n",
              "      <td>1.135730e+04</td>\n",
              "      <td>0.250000</td>\n",
              "      <td>0</td>\n",
              "      <td>-5.465349</td>\n",
              "      <td>8.390544</td>\n",
              "      <td>5.315259</td>\n",
              "      <td>0</td>\n",
              "    </tr>\n",
              "    <tr>\n",
              "      <th>1</th>\n",
              "      <td>101.32.34.206</td>\n",
              "      <td>6</td>\n",
              "      <td>6.0</td>\n",
              "      <td>6</td>\n",
              "      <td>5</td>\n",
              "      <td>1.109425e+06</td>\n",
              "      <td>2.693437e+06</td>\n",
              "      <td>5.600000</td>\n",
              "      <td>0</td>\n",
              "      <td>-3.816341</td>\n",
              "      <td>8.966422</td>\n",
              "      <td>5.256598</td>\n",
              "      <td>0</td>\n",
              "    </tr>\n",
              "    <tr>\n",
              "      <th>2</th>\n",
              "      <td>101.89.239.238</td>\n",
              "      <td>1</td>\n",
              "      <td>1.0</td>\n",
              "      <td>1</td>\n",
              "      <td>1</td>\n",
              "      <td>8.249000e+05</td>\n",
              "      <td>0.000000e+00</td>\n",
              "      <td>0.000000</td>\n",
              "      <td>0</td>\n",
              "      <td>-14.853204</td>\n",
              "      <td>-3.295144</td>\n",
              "      <td>5.464533</td>\n",
              "      <td>0</td>\n",
              "    </tr>\n",
              "    <tr>\n",
              "      <th>3</th>\n",
              "      <td>101.91.227.154</td>\n",
              "      <td>1</td>\n",
              "      <td>1.0</td>\n",
              "      <td>1</td>\n",
              "      <td>0</td>\n",
              "      <td>3.280000e+02</td>\n",
              "      <td>0.000000e+00</td>\n",
              "      <td>0.000000</td>\n",
              "      <td>0</td>\n",
              "      <td>10.178643</td>\n",
              "      <td>-16.161877</td>\n",
              "      <td>5.472852</td>\n",
              "      <td>0</td>\n",
              "    </tr>\n",
              "    <tr>\n",
              "      <th>4</th>\n",
              "      <td>103.152.221.226</td>\n",
              "      <td>1</td>\n",
              "      <td>1.0</td>\n",
              "      <td>1</td>\n",
              "      <td>1</td>\n",
              "      <td>2.131600e+05</td>\n",
              "      <td>0.000000e+00</td>\n",
              "      <td>0.000000</td>\n",
              "      <td>0</td>\n",
              "      <td>-16.163691</td>\n",
              "      <td>-3.681581</td>\n",
              "      <td>5.464860</td>\n",
              "      <td>0</td>\n",
              "    </tr>\n",
              "    <tr>\n",
              "      <th>...</th>\n",
              "      <td>...</td>\n",
              "      <td>...</td>\n",
              "      <td>...</td>\n",
              "      <td>...</td>\n",
              "      <td>...</td>\n",
              "      <td>...</td>\n",
              "      <td>...</td>\n",
              "      <td>...</td>\n",
              "      <td>...</td>\n",
              "      <td>...</td>\n",
              "      <td>...</td>\n",
              "      <td>...</td>\n",
              "      <td>...</td>\n",
              "    </tr>\n",
              "    <tr>\n",
              "      <th>410</th>\n",
              "      <td>89.86.32.26</td>\n",
              "      <td>2</td>\n",
              "      <td>2.0</td>\n",
              "      <td>2</td>\n",
              "      <td>2</td>\n",
              "      <td>1.773600e+04</td>\n",
              "      <td>1.439669e+04</td>\n",
              "      <td>0.000000</td>\n",
              "      <td>0</td>\n",
              "      <td>-3.819349</td>\n",
              "      <td>2.573575</td>\n",
              "      <td>5.424129</td>\n",
              "      <td>0</td>\n",
              "    </tr>\n",
              "    <tr>\n",
              "      <th>411</th>\n",
              "      <td>91.183.152.182</td>\n",
              "      <td>12</td>\n",
              "      <td>12.0</td>\n",
              "      <td>12</td>\n",
              "      <td>9</td>\n",
              "      <td>6.282333e+03</td>\n",
              "      <td>8.599698e+03</td>\n",
              "      <td>0.363636</td>\n",
              "      <td>0</td>\n",
              "      <td>-2.895143</td>\n",
              "      <td>10.760445</td>\n",
              "      <td>5.091021</td>\n",
              "      <td>0</td>\n",
              "    </tr>\n",
              "    <tr>\n",
              "      <th>412</th>\n",
              "      <td>93.65.170.88</td>\n",
              "      <td>5</td>\n",
              "      <td>5.0</td>\n",
              "      <td>5</td>\n",
              "      <td>3</td>\n",
              "      <td>9.792800e+03</td>\n",
              "      <td>1.142108e+04</td>\n",
              "      <td>0.250000</td>\n",
              "      <td>0</td>\n",
              "      <td>-5.145535</td>\n",
              "      <td>7.919318</td>\n",
              "      <td>5.322711</td>\n",
              "      <td>0</td>\n",
              "    </tr>\n",
              "    <tr>\n",
              "      <th>413</th>\n",
              "      <td>94.231.255.203</td>\n",
              "      <td>5</td>\n",
              "      <td>5.0</td>\n",
              "      <td>5</td>\n",
              "      <td>4</td>\n",
              "      <td>9.865200e+03</td>\n",
              "      <td>1.135730e+04</td>\n",
              "      <td>0.000000</td>\n",
              "      <td>0</td>\n",
              "      <td>-4.782438</td>\n",
              "      <td>8.657574</td>\n",
              "      <td>5.315268</td>\n",
              "      <td>0</td>\n",
              "    </tr>\n",
              "    <tr>\n",
              "      <th>414</th>\n",
              "      <td>96.19.92.93</td>\n",
              "      <td>5</td>\n",
              "      <td>5.0</td>\n",
              "      <td>5</td>\n",
              "      <td>4</td>\n",
              "      <td>9.869400e+03</td>\n",
              "      <td>1.135599e+04</td>\n",
              "      <td>0.500000</td>\n",
              "      <td>0</td>\n",
              "      <td>-4.714537</td>\n",
              "      <td>8.169971</td>\n",
              "      <td>5.315250</td>\n",
              "      <td>0</td>\n",
              "    </tr>\n",
              "  </tbody>\n",
              "</table>\n",
              "<p>403 rows × 13 columns</p>\n",
              "</div>"
            ],
            "text/plain": [
              "                  IP  Total Requests  ...       ssd  anomaly_kmeans\n",
              "0     100.16.135.233               5  ...  5.315259               0\n",
              "1      101.32.34.206               6  ...  5.256598               0\n",
              "2     101.89.239.238               1  ...  5.464533               0\n",
              "3     101.91.227.154               1  ...  5.472852               0\n",
              "4    103.152.221.226               1  ...  5.464860               0\n",
              "..               ...             ...  ...       ...             ...\n",
              "410      89.86.32.26               2  ...  5.424129               0\n",
              "411   91.183.152.182              12  ...  5.091021               0\n",
              "412     93.65.170.88               5  ...  5.322711               0\n",
              "413   94.231.255.203               5  ...  5.315268               0\n",
              "414      96.19.92.93               5  ...  5.315250               0\n",
              "\n",
              "[403 rows x 13 columns]"
            ]
          },
          "metadata": {
            "tags": []
          },
          "execution_count": 202
        }
      ]
    },
    {
      "cell_type": "markdown",
      "metadata": {
        "id": "gOYUUk0apP9u"
      },
      "source": [
        "Isolated forests"
      ]
    },
    {
      "cell_type": "code",
      "metadata": {
        "id": "gPQbewgwpWm1"
      },
      "source": [
        "outlier_fraction = 0.028\n",
        "model =  IsolationForest(n_jobs=-1, n_estimators=200, max_features=3, random_state=42, contamination=outlier_fraction, behaviour='new')"
      ],
      "execution_count": 203,
      "outputs": []
    },
    {
      "cell_type": "code",
      "metadata": {
        "colab": {
          "base_uri": "https://localhost:8080/"
        },
        "id": "9UfpMvoLppof",
        "outputId": "577605b4-4b15-43b4-f79f-8482ed1867cd"
      },
      "source": [
        "model.fit(chosen_data)"
      ],
      "execution_count": 204,
      "outputs": [
        {
          "output_type": "stream",
          "text": [
            "/usr/local/lib/python3.7/dist-packages/sklearn/ensemble/_iforest.py:248: FutureWarning: 'behaviour' is deprecated in 0.22 and will be removed in 0.24. You should not pass or set this parameter.\n",
            "  FutureWarning\n"
          ],
          "name": "stderr"
        },
        {
          "output_type": "execute_result",
          "data": {
            "text/plain": [
              "IsolationForest(behaviour='new', bootstrap=False, contamination=0.028,\n",
              "                max_features=3, max_samples='auto', n_estimators=200, n_jobs=-1,\n",
              "                random_state=42, verbose=0, warm_start=False)"
            ]
          },
          "metadata": {
            "tags": []
          },
          "execution_count": 204
        }
      ]
    },
    {
      "cell_type": "code",
      "metadata": {
        "id": "-gAwR-32qNch"
      },
      "source": [
        "df['anomaly_isolated'] = pd.Series(model.predict(chosen_data))"
      ],
      "execution_count": 205,
      "outputs": []
    },
    {
      "cell_type": "code",
      "metadata": {
        "colab": {
          "base_uri": "https://localhost:8080/"
        },
        "id": "jibG5qHTqTmY",
        "outputId": "53b1ed3b-679d-4ceb-8747-0c097195f77d"
      },
      "source": [
        "df['anomaly_isolated'] = df['anomaly_isolated'].map( {1: 0, -1: 1} )\n",
        "df['anomaly_isolated'].value_counts()"
      ],
      "execution_count": 206,
      "outputs": [
        {
          "output_type": "execute_result",
          "data": {
            "text/plain": [
              "0    403\n",
              "1     12\n",
              "Name: anomaly_isolated, dtype: int64"
            ]
          },
          "metadata": {
            "tags": []
          },
          "execution_count": 206
        }
      ]
    },
    {
      "cell_type": "code",
      "metadata": {
        "colab": {
          "base_uri": "https://localhost:8080/",
          "height": 322
        },
        "id": "iwB6qioEqmqI",
        "outputId": "90c429ec-2321-465f-ef3c-c5b503e4de7d"
      },
      "source": [
        "sns.scatterplot(\n",
        "    x=\"tsne-2d-one\", y=\"tsne-2d-two\",\n",
        "    hue=\"anomaly_isolated\",\n",
        "    data=df,\n",
        "    legend=\"full\",\n",
        "    alpha=1\n",
        ")"
      ],
      "execution_count": 207,
      "outputs": [
        {
          "output_type": "execute_result",
          "data": {
            "text/plain": [
              "<matplotlib.axes._subplots.AxesSubplot at 0x7ff99b4e6310>"
            ]
          },
          "metadata": {
            "tags": []
          },
          "execution_count": 207
        },
        {
          "output_type": "display_data",
          "data": {
            "image/png": "[encoded data removed]",
            "text/plain": [
              "<Figure size 432x288 with 1 Axes>"
            ]
          },
          "metadata": {
            "tags": []
          }
        }
      ]
    },
    {
      "cell_type": "code",
      "metadata": {
        "colab": {
          "base_uri": "https://localhost:8080/",
          "height": 419
        },
        "id": "GSjjCwPtq8Sx",
        "outputId": "e5f2bc64-7d65-4bbd-acc8-18b018948a9b"
      },
      "source": [
        "df.loc[df['anomaly_isolated']==1]"
      ],
      "execution_count": 208,
      "outputs": [
        {
          "output_type": "execute_result",
          "data": {
            "text/html": [
              "<div>\n",
              "<style scoped>\n",
              "    .dataframe tbody tr th:only-of-type {\n",
              "        vertical-align: middle;\n",
              "    }\n",
              "\n",
              "    .dataframe tbody tr th {\n",
              "        vertical-align: top;\n",
              "    }\n",
              "\n",
              "    .dataframe thead th {\n",
              "        text-align: right;\n",
              "    }\n",
              "</style>\n",
              "<table border=\"1\" class=\"dataframe\">\n",
              "  <thead>\n",
              "    <tr style=\"text-align: right;\">\n",
              "      <th></th>\n",
              "      <th>IP</th>\n",
              "      <th>Total Requests</th>\n",
              "      <th>Daily Mean</th>\n",
              "      <th>GET requests</th>\n",
              "      <th>Successful requests</th>\n",
              "      <th>Mean Return Size</th>\n",
              "      <th>Return Size Std</th>\n",
              "      <th>Mean Time Difference</th>\n",
              "      <th>cluster</th>\n",
              "      <th>tsne-2d-one</th>\n",
              "      <th>tsne-2d-two</th>\n",
              "      <th>ssd</th>\n",
              "      <th>anomaly_kmeans</th>\n",
              "      <th>anomaly_isolated</th>\n",
              "    </tr>\n",
              "  </thead>\n",
              "  <tbody>\n",
              "    <tr>\n",
              "      <th>50</th>\n",
              "      <td>157.55.39.17</td>\n",
              "      <td>47</td>\n",
              "      <td>47.0</td>\n",
              "      <td>47</td>\n",
              "      <td>46</td>\n",
              "      <td>2.907660e+03</td>\n",
              "      <td>4.854550e+03</td>\n",
              "      <td>1638.521739</td>\n",
              "      <td>2</td>\n",
              "      <td>-1.831992</td>\n",
              "      <td>13.868539</td>\n",
              "      <td>4.566288</td>\n",
              "      <td>0</td>\n",
              "      <td>1</td>\n",
              "    </tr>\n",
              "    <tr>\n",
              "      <th>51</th>\n",
              "      <td>157.55.39.26</td>\n",
              "      <td>58</td>\n",
              "      <td>29.0</td>\n",
              "      <td>58</td>\n",
              "      <td>54</td>\n",
              "      <td>4.883121e+03</td>\n",
              "      <td>6.573502e+03</td>\n",
              "      <td>1149.719298</td>\n",
              "      <td>2</td>\n",
              "      <td>-1.736940</td>\n",
              "      <td>13.663938</td>\n",
              "      <td>4.496382</td>\n",
              "      <td>0</td>\n",
              "      <td>1</td>\n",
              "    </tr>\n",
              "    <tr>\n",
              "      <th>54</th>\n",
              "      <td>157.55.39.75</td>\n",
              "      <td>64</td>\n",
              "      <td>64.0</td>\n",
              "      <td>64</td>\n",
              "      <td>63</td>\n",
              "      <td>3.828141e+03</td>\n",
              "      <td>4.227239e+03</td>\n",
              "      <td>998.000000</td>\n",
              "      <td>2</td>\n",
              "      <td>-2.040431</td>\n",
              "      <td>14.133765</td>\n",
              "      <td>4.804857</td>\n",
              "      <td>0</td>\n",
              "      <td>1</td>\n",
              "    </tr>\n",
              "    <tr>\n",
              "      <th>125</th>\n",
              "      <td>195.191.163.28</td>\n",
              "      <td>7</td>\n",
              "      <td>7.0</td>\n",
              "      <td>7</td>\n",
              "      <td>6</td>\n",
              "      <td>7.846000e+07</td>\n",
              "      <td>2.075582e+08</td>\n",
              "      <td>661.166667</td>\n",
              "      <td>4</td>\n",
              "      <td>-9.146929</td>\n",
              "      <td>4.303019</td>\n",
              "      <td>8.750140</td>\n",
              "      <td>1</td>\n",
              "      <td>1</td>\n",
              "    </tr>\n",
              "    <tr>\n",
              "      <th>136</th>\n",
              "      <td>220.158.157.182</td>\n",
              "      <td>9</td>\n",
              "      <td>9.0</td>\n",
              "      <td>9</td>\n",
              "      <td>4</td>\n",
              "      <td>6.080910e+07</td>\n",
              "      <td>1.824047e+08</td>\n",
              "      <td>17.875000</td>\n",
              "      <td>4</td>\n",
              "      <td>-9.145062</td>\n",
              "      <td>4.293844</td>\n",
              "      <td>7.727056</td>\n",
              "      <td>1</td>\n",
              "      <td>1</td>\n",
              "    </tr>\n",
              "    <tr>\n",
              "      <th>139</th>\n",
              "      <td>27.65.252.148</td>\n",
              "      <td>6</td>\n",
              "      <td>6.0</td>\n",
              "      <td>6</td>\n",
              "      <td>5</td>\n",
              "      <td>9.153451e+07</td>\n",
              "      <td>2.241887e+08</td>\n",
              "      <td>13.400000</td>\n",
              "      <td>4</td>\n",
              "      <td>-9.151245</td>\n",
              "      <td>4.291281</td>\n",
              "      <td>9.567791</td>\n",
              "      <td>1</td>\n",
              "      <td>1</td>\n",
              "    </tr>\n",
              "    <tr>\n",
              "      <th>154</th>\n",
              "      <td>40.77.167.35</td>\n",
              "      <td>43</td>\n",
              "      <td>43.0</td>\n",
              "      <td>43</td>\n",
              "      <td>41</td>\n",
              "      <td>2.817860e+03</td>\n",
              "      <td>3.322268e+03</td>\n",
              "      <td>1737.928571</td>\n",
              "      <td>2</td>\n",
              "      <td>-1.757976</td>\n",
              "      <td>13.738455</td>\n",
              "      <td>4.555790</td>\n",
              "      <td>0</td>\n",
              "      <td>1</td>\n",
              "    </tr>\n",
              "    <tr>\n",
              "      <th>156</th>\n",
              "      <td>40.77.167.38</td>\n",
              "      <td>76</td>\n",
              "      <td>38.0</td>\n",
              "      <td>76</td>\n",
              "      <td>75</td>\n",
              "      <td>3.680197e+03</td>\n",
              "      <td>4.693449e+03</td>\n",
              "      <td>978.480000</td>\n",
              "      <td>2</td>\n",
              "      <td>-1.984128</td>\n",
              "      <td>14.029704</td>\n",
              "      <td>4.584959</td>\n",
              "      <td>0</td>\n",
              "      <td>1</td>\n",
              "    </tr>\n",
              "    <tr>\n",
              "      <th>159</th>\n",
              "      <td>40.77.167.97</td>\n",
              "      <td>50</td>\n",
              "      <td>50.0</td>\n",
              "      <td>50</td>\n",
              "      <td>47</td>\n",
              "      <td>3.703060e+03</td>\n",
              "      <td>4.927921e+03</td>\n",
              "      <td>1221.061224</td>\n",
              "      <td>2</td>\n",
              "      <td>-1.875208</td>\n",
              "      <td>13.933555</td>\n",
              "      <td>4.599638</td>\n",
              "      <td>0</td>\n",
              "      <td>1</td>\n",
              "    </tr>\n",
              "    <tr>\n",
              "      <th>227</th>\n",
              "      <td>54.36.148.17</td>\n",
              "      <td>292</td>\n",
              "      <td>146.0</td>\n",
              "      <td>292</td>\n",
              "      <td>292</td>\n",
              "      <td>1.292700e+04</td>\n",
              "      <td>1.491498e+04</td>\n",
              "      <td>306.278351</td>\n",
              "      <td>3</td>\n",
              "      <td>-3.936702</td>\n",
              "      <td>13.761462</td>\n",
              "      <td>19.941191</td>\n",
              "      <td>1</td>\n",
              "      <td>1</td>\n",
              "    </tr>\n",
              "    <tr>\n",
              "      <th>342</th>\n",
              "      <td>54.36.149.61</td>\n",
              "      <td>275</td>\n",
              "      <td>137.5</td>\n",
              "      <td>275</td>\n",
              "      <td>275</td>\n",
              "      <td>1.391965e+04</td>\n",
              "      <td>1.371706e+04</td>\n",
              "      <td>325.156934</td>\n",
              "      <td>3</td>\n",
              "      <td>-3.936007</td>\n",
              "      <td>13.763123</td>\n",
              "      <td>17.776789</td>\n",
              "      <td>1</td>\n",
              "      <td>1</td>\n",
              "    </tr>\n",
              "    <tr>\n",
              "      <th>407</th>\n",
              "      <td>85.2.223.70</td>\n",
              "      <td>7</td>\n",
              "      <td>7.0</td>\n",
              "      <td>7</td>\n",
              "      <td>6</td>\n",
              "      <td>9.329464e+07</td>\n",
              "      <td>2.040082e+08</td>\n",
              "      <td>12.166667</td>\n",
              "      <td>4</td>\n",
              "      <td>-9.148073</td>\n",
              "      <td>4.295875</td>\n",
              "      <td>8.670386</td>\n",
              "      <td>1</td>\n",
              "      <td>1</td>\n",
              "    </tr>\n",
              "  </tbody>\n",
              "</table>\n",
              "</div>"
            ],
            "text/plain": [
              "                  IP  Total Requests  ...  anomaly_kmeans  anomaly_isolated\n",
              "50      157.55.39.17              47  ...               0                 1\n",
              "51      157.55.39.26              58  ...               0                 1\n",
              "54      157.55.39.75              64  ...               0                 1\n",
              "125   195.191.163.28               7  ...               1                 1\n",
              "136  220.158.157.182               9  ...               1                 1\n",
              "139    27.65.252.148               6  ...               1                 1\n",
              "154     40.77.167.35              43  ...               0                 1\n",
              "156     40.77.167.38              76  ...               0                 1\n",
              "159     40.77.167.97              50  ...               0                 1\n",
              "227     54.36.148.17             292  ...               1                 1\n",
              "342     54.36.149.61             275  ...               1                 1\n",
              "407      85.2.223.70               7  ...               1                 1\n",
              "\n",
              "[12 rows x 14 columns]"
            ]
          },
          "metadata": {
            "tags": []
          },
          "execution_count": 208
        }
      ]
    },
    {
      "cell_type": "markdown",
      "metadata": {
        "id": "uFBUWd9irVVK"
      },
      "source": [
        "One Class SVM"
      ]
    },
    {
      "cell_type": "code",
      "metadata": {
        "id": "AWKgE3LPrZcg"
      },
      "source": [
        "model1 =  OneClassSVM(nu=outlier_fraction, degree=2, kernel='rbf')"
      ],
      "execution_count": 209,
      "outputs": []
    },
    {
      "cell_type": "code",
      "metadata": {
        "id": "TWe6bc2zri83"
      },
      "source": [
        "data_new_clean = chosen_data.loc[chosen_data['Total Requests'] <=chosen_data['Total Requests'].quantile(1-outlier_fraction)]"
      ],
      "execution_count": 210,
      "outputs": []
    },
    {
      "cell_type": "code",
      "metadata": {
        "colab": {
          "base_uri": "https://localhost:8080/"
        },
        "id": "b4YTVpR9uZRz",
        "outputId": "c3333cad-51fb-4cca-dc5d-c7f2ba803dc3"
      },
      "source": [
        "model1.fit(data_new_clean)"
      ],
      "execution_count": 211,
      "outputs": [
        {
          "output_type": "execute_result",
          "data": {
            "text/plain": [
              "OneClassSVM(cache_size=200, coef0=0.0, degree=2, gamma='scale', kernel='rbf',\n",
              "            max_iter=-1, nu=0.028, shrinking=True, tol=0.001, verbose=False)"
            ]
          },
          "metadata": {
            "tags": []
          },
          "execution_count": 211
        }
      ]
    },
    {
      "cell_type": "code",
      "metadata": {
        "id": "ut8K03u1wOz2"
      },
      "source": [
        "df['anomaly_svm'] = pd.Series(model.predict(chosen_data))"
      ],
      "execution_count": 212,
      "outputs": []
    },
    {
      "cell_type": "code",
      "metadata": {
        "colab": {
          "base_uri": "https://localhost:8080/"
        },
        "id": "GyHJIb1pwdVj",
        "outputId": "836fe61d-d9e9-487a-b019-43ae0d3cc9ae"
      },
      "source": [
        "df['anomaly_svm'] = df['anomaly_svm'].map( {1: 0, -1: 1} )\n",
        "df['anomaly_svm'].value_counts()"
      ],
      "execution_count": 213,
      "outputs": [
        {
          "output_type": "execute_result",
          "data": {
            "text/plain": [
              "0    403\n",
              "1     12\n",
              "Name: anomaly_svm, dtype: int64"
            ]
          },
          "metadata": {
            "tags": []
          },
          "execution_count": 213
        }
      ]
    },
    {
      "cell_type": "code",
      "metadata": {
        "colab": {
          "base_uri": "https://localhost:8080/",
          "height": 322
        },
        "id": "MD-62tpqwlAg",
        "outputId": "2f461aa0-57f1-4faa-adef-3c6c5017b923"
      },
      "source": [
        "sns.scatterplot(\n",
        "    x=\"tsne-2d-one\", y=\"tsne-2d-two\",\n",
        "    hue=\"anomaly_svm\",\n",
        "    data=df,\n",
        "    legend=\"full\",\n",
        "    alpha=1\n",
        ")"
      ],
      "execution_count": 214,
      "outputs": [
        {
          "output_type": "execute_result",
          "data": {
            "text/plain": [
              "<matplotlib.axes._subplots.AxesSubplot at 0x7ff99b45b2d0>"
            ]
          },
          "metadata": {
            "tags": []
          },
          "execution_count": 214
        },
        {
          "output_type": "display_data",
          "data": {
            "image/png": "[encoded data removed]",
            "text/plain": [
              "<Figure size 432x288 with 1 Axes>"
            ]
          },
          "metadata": {
            "tags": []
          }
        }
      ]
    },
    {
      "cell_type": "code",
      "metadata": {
        "colab": {
          "base_uri": "https://localhost:8080/",
          "height": 439
        },
        "id": "g8cf7MyOwraL",
        "outputId": "4cc1cb44-f784-4d72-faca-50573df96cb7"
      },
      "source": [
        "df.loc[df['anomaly_svm']==1]"
      ],
      "execution_count": 215,
      "outputs": [
        {
          "output_type": "execute_result",
          "data": {
            "text/html": [
              "<div>\n",
              "<style scoped>\n",
              "    .dataframe tbody tr th:only-of-type {\n",
              "        vertical-align: middle;\n",
              "    }\n",
              "\n",
              "    .dataframe tbody tr th {\n",
              "        vertical-align: top;\n",
              "    }\n",
              "\n",
              "    .dataframe thead th {\n",
              "        text-align: right;\n",
              "    }\n",
              "</style>\n",
              "<table border=\"1\" class=\"dataframe\">\n",
              "  <thead>\n",
              "    <tr style=\"text-align: right;\">\n",
              "      <th></th>\n",
              "      <th>IP</th>\n",
              "      <th>Total Requests</th>\n",
              "      <th>Daily Mean</th>\n",
              "      <th>GET requests</th>\n",
              "      <th>Successful requests</th>\n",
              "      <th>Mean Return Size</th>\n",
              "      <th>Return Size Std</th>\n",
              "      <th>Mean Time Difference</th>\n",
              "      <th>cluster</th>\n",
              "      <th>tsne-2d-one</th>\n",
              "      <th>tsne-2d-two</th>\n",
              "      <th>ssd</th>\n",
              "      <th>anomaly_kmeans</th>\n",
              "      <th>anomaly_isolated</th>\n",
              "      <th>anomaly_svm</th>\n",
              "    </tr>\n",
              "  </thead>\n",
              "  <tbody>\n",
              "    <tr>\n",
              "      <th>50</th>\n",
              "      <td>157.55.39.17</td>\n",
              "      <td>47</td>\n",
              "      <td>47.0</td>\n",
              "      <td>47</td>\n",
              "      <td>46</td>\n",
              "      <td>2.907660e+03</td>\n",
              "      <td>4.854550e+03</td>\n",
              "      <td>1638.521739</td>\n",
              "      <td>2</td>\n",
              "      <td>-1.831992</td>\n",
              "      <td>13.868539</td>\n",
              "      <td>4.566288</td>\n",
              "      <td>0</td>\n",
              "      <td>1</td>\n",
              "      <td>1</td>\n",
              "    </tr>\n",
              "    <tr>\n",
              "      <th>51</th>\n",
              "      <td>157.55.39.26</td>\n",
              "      <td>58</td>\n",
              "      <td>29.0</td>\n",
              "      <td>58</td>\n",
              "      <td>54</td>\n",
              "      <td>4.883121e+03</td>\n",
              "      <td>6.573502e+03</td>\n",
              "      <td>1149.719298</td>\n",
              "      <td>2</td>\n",
              "      <td>-1.736940</td>\n",
              "      <td>13.663938</td>\n",
              "      <td>4.496382</td>\n",
              "      <td>0</td>\n",
              "      <td>1</td>\n",
              "      <td>1</td>\n",
              "    </tr>\n",
              "    <tr>\n",
              "      <th>54</th>\n",
              "      <td>157.55.39.75</td>\n",
              "      <td>64</td>\n",
              "      <td>64.0</td>\n",
              "      <td>64</td>\n",
              "      <td>63</td>\n",
              "      <td>3.828141e+03</td>\n",
              "      <td>4.227239e+03</td>\n",
              "      <td>998.000000</td>\n",
              "      <td>2</td>\n",
              "      <td>-2.040431</td>\n",
              "      <td>14.133765</td>\n",
              "      <td>4.804857</td>\n",
              "      <td>0</td>\n",
              "      <td>1</td>\n",
              "      <td>1</td>\n",
              "    </tr>\n",
              "    <tr>\n",
              "      <th>125</th>\n",
              "      <td>195.191.163.28</td>\n",
              "      <td>7</td>\n",
              "      <td>7.0</td>\n",
              "      <td>7</td>\n",
              "      <td>6</td>\n",
              "      <td>7.846000e+07</td>\n",
              "      <td>2.075582e+08</td>\n",
              "      <td>661.166667</td>\n",
              "      <td>4</td>\n",
              "      <td>-9.146929</td>\n",
              "      <td>4.303019</td>\n",
              "      <td>8.750140</td>\n",
              "      <td>1</td>\n",
              "      <td>1</td>\n",
              "      <td>1</td>\n",
              "    </tr>\n",
              "    <tr>\n",
              "      <th>136</th>\n",
              "      <td>220.158.157.182</td>\n",
              "      <td>9</td>\n",
              "      <td>9.0</td>\n",
              "      <td>9</td>\n",
              "      <td>4</td>\n",
              "      <td>6.080910e+07</td>\n",
              "      <td>1.824047e+08</td>\n",
              "      <td>17.875000</td>\n",
              "      <td>4</td>\n",
              "      <td>-9.145062</td>\n",
              "      <td>4.293844</td>\n",
              "      <td>7.727056</td>\n",
              "      <td>1</td>\n",
              "      <td>1</td>\n",
              "      <td>1</td>\n",
              "    </tr>\n",
              "    <tr>\n",
              "      <th>139</th>\n",
              "      <td>27.65.252.148</td>\n",
              "      <td>6</td>\n",
              "      <td>6.0</td>\n",
              "      <td>6</td>\n",
              "      <td>5</td>\n",
              "      <td>9.153451e+07</td>\n",
              "      <td>2.241887e+08</td>\n",
              "      <td>13.400000</td>\n",
              "      <td>4</td>\n",
              "      <td>-9.151245</td>\n",
              "      <td>4.291281</td>\n",
              "      <td>9.567791</td>\n",
              "      <td>1</td>\n",
              "      <td>1</td>\n",
              "      <td>1</td>\n",
              "    </tr>\n",
              "    <tr>\n",
              "      <th>154</th>\n",
              "      <td>40.77.167.35</td>\n",
              "      <td>43</td>\n",
              "      <td>43.0</td>\n",
              "      <td>43</td>\n",
              "      <td>41</td>\n",
              "      <td>2.817860e+03</td>\n",
              "      <td>3.322268e+03</td>\n",
              "      <td>1737.928571</td>\n",
              "      <td>2</td>\n",
              "      <td>-1.757976</td>\n",
              "      <td>13.738455</td>\n",
              "      <td>4.555790</td>\n",
              "      <td>0</td>\n",
              "      <td>1</td>\n",
              "      <td>1</td>\n",
              "    </tr>\n",
              "    <tr>\n",
              "      <th>156</th>\n",
              "      <td>40.77.167.38</td>\n",
              "      <td>76</td>\n",
              "      <td>38.0</td>\n",
              "      <td>76</td>\n",
              "      <td>75</td>\n",
              "      <td>3.680197e+03</td>\n",
              "      <td>4.693449e+03</td>\n",
              "      <td>978.480000</td>\n",
              "      <td>2</td>\n",
              "      <td>-1.984128</td>\n",
              "      <td>14.029704</td>\n",
              "      <td>4.584959</td>\n",
              "      <td>0</td>\n",
              "      <td>1</td>\n",
              "      <td>1</td>\n",
              "    </tr>\n",
              "    <tr>\n",
              "      <th>159</th>\n",
              "      <td>40.77.167.97</td>\n",
              "      <td>50</td>\n",
              "      <td>50.0</td>\n",
              "      <td>50</td>\n",
              "      <td>47</td>\n",
              "      <td>3.703060e+03</td>\n",
              "      <td>4.927921e+03</td>\n",
              "      <td>1221.061224</td>\n",
              "      <td>2</td>\n",
              "      <td>-1.875208</td>\n",
              "      <td>13.933555</td>\n",
              "      <td>4.599638</td>\n",
              "      <td>0</td>\n",
              "      <td>1</td>\n",
              "      <td>1</td>\n",
              "    </tr>\n",
              "    <tr>\n",
              "      <th>227</th>\n",
              "      <td>54.36.148.17</td>\n",
              "      <td>292</td>\n",
              "      <td>146.0</td>\n",
              "      <td>292</td>\n",
              "      <td>292</td>\n",
              "      <td>1.292700e+04</td>\n",
              "      <td>1.491498e+04</td>\n",
              "      <td>306.278351</td>\n",
              "      <td>3</td>\n",
              "      <td>-3.936702</td>\n",
              "      <td>13.761462</td>\n",
              "      <td>19.941191</td>\n",
              "      <td>1</td>\n",
              "      <td>1</td>\n",
              "      <td>1</td>\n",
              "    </tr>\n",
              "    <tr>\n",
              "      <th>342</th>\n",
              "      <td>54.36.149.61</td>\n",
              "      <td>275</td>\n",
              "      <td>137.5</td>\n",
              "      <td>275</td>\n",
              "      <td>275</td>\n",
              "      <td>1.391965e+04</td>\n",
              "      <td>1.371706e+04</td>\n",
              "      <td>325.156934</td>\n",
              "      <td>3</td>\n",
              "      <td>-3.936007</td>\n",
              "      <td>13.763123</td>\n",
              "      <td>17.776789</td>\n",
              "      <td>1</td>\n",
              "      <td>1</td>\n",
              "      <td>1</td>\n",
              "    </tr>\n",
              "    <tr>\n",
              "      <th>407</th>\n",
              "      <td>85.2.223.70</td>\n",
              "      <td>7</td>\n",
              "      <td>7.0</td>\n",
              "      <td>7</td>\n",
              "      <td>6</td>\n",
              "      <td>9.329464e+07</td>\n",
              "      <td>2.040082e+08</td>\n",
              "      <td>12.166667</td>\n",
              "      <td>4</td>\n",
              "      <td>-9.148073</td>\n",
              "      <td>4.295875</td>\n",
              "      <td>8.670386</td>\n",
              "      <td>1</td>\n",
              "      <td>1</td>\n",
              "      <td>1</td>\n",
              "    </tr>\n",
              "  </tbody>\n",
              "</table>\n",
              "</div>"
            ],
            "text/plain": [
              "                  IP  Total Requests  ...  anomaly_isolated  anomaly_svm\n",
              "50      157.55.39.17              47  ...                 1            1\n",
              "51      157.55.39.26              58  ...                 1            1\n",
              "54      157.55.39.75              64  ...                 1            1\n",
              "125   195.191.163.28               7  ...                 1            1\n",
              "136  220.158.157.182               9  ...                 1            1\n",
              "139    27.65.252.148               6  ...                 1            1\n",
              "154     40.77.167.35              43  ...                 1            1\n",
              "156     40.77.167.38              76  ...                 1            1\n",
              "159     40.77.167.97              50  ...                 1            1\n",
              "227     54.36.148.17             292  ...                 1            1\n",
              "342     54.36.149.61             275  ...                 1            1\n",
              "407      85.2.223.70               7  ...                 1            1\n",
              "\n",
              "[12 rows x 15 columns]"
            ]
          },
          "metadata": {
            "tags": []
          },
          "execution_count": 215
        }
      ]
    }
  ]
}