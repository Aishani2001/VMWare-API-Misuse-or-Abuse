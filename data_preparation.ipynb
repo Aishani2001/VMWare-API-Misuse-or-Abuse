{
 "metadata": {
  "language_info": {
   "codemirror_mode": {
    "name": "ipython",
    "version": 3
   },
   "file_extension": ".py",
   "mimetype": "text/x-python",
   "name": "python",
   "nbconvert_exporter": "python",
   "pygments_lexer": "ipython3",
   "version": "3.8.6"
  },
  "orig_nbformat": 2,
  "kernelspec": {
   "name": "python386jvsc74a57bd0c6fe1be81ad7448fbfe4e92810da5bfb9fe08ec651b6d7af84a883b769fff80b",
   "display_name": "Python 3.8.6 64-bit ('APIMisuse-PpJxQITT': pipenv)"
  }
 },
 "nbformat": 4,
 "nbformat_minor": 2,
 "cells": [
  {
   "cell_type": "code",
   "execution_count": 41,
   "metadata": {},
   "outputs": [],
   "source": [
    "import numpy as np\n",
    "import pandas as pd\n",
    "import re\n",
    "import datetime as dt\n",
    "from utilities import extract_data"
   ]
  },
  {
   "source": [
    "# Data Preprocessing\n",
    "Access logs were read and parsed based on the format. Extracted features:\n",
    "\n",
    "1. IP\n",
    "2. Timestamp\n",
    "3. Request URL \n",
    "4. Status Code\n",
    "5. Return Size\n",
    "6. Referer\n",
    "7. User Agent"
   ],
   "cell_type": "markdown",
   "metadata": {}
  },
  {
   "cell_type": "code",
   "execution_count": 42,
   "metadata": {
    "tags": []
   },
   "outputs": [
    {
     "output_type": "execute_result",
     "data": {
      "text/plain": [
       "                 IP                   Timestamp  \\\n",
       "0      83.149.9.216  17/May/2015:10:05:03 +0000   \n",
       "1      83.149.9.216  17/May/2015:10:05:43 +0000   \n",
       "2      83.149.9.216  17/May/2015:10:05:47 +0000   \n",
       "3      83.149.9.216  17/May/2015:10:05:12 +0000   \n",
       "4      83.149.9.216  17/May/2015:10:05:07 +0000   \n",
       "...             ...                         ...   \n",
       "9994   63.140.98.80  20/May/2015:21:05:28 +0000   \n",
       "9995   63.140.98.80  20/May/2015:21:05:50 +0000   \n",
       "9996  66.249.73.135  20/May/2015:21:05:00 +0000   \n",
       "9997    180.76.6.56  20/May/2015:21:05:56 +0000   \n",
       "9998   46.105.14.53  20/May/2015:21:05:15 +0000   \n",
       "\n",
       "                                                    URL  Status Code  \\\n",
       "0     GET /presentations/logstash-monitorama-2013/im...          200   \n",
       "1     GET /presentations/logstash-monitorama-2013/im...          200   \n",
       "2     GET /presentations/logstash-monitorama-2013/pl...          200   \n",
       "3     GET /presentations/logstash-monitorama-2013/pl...          200   \n",
       "4     GET /presentations/logstash-monitorama-2013/pl...          200   \n",
       "...                                                 ...          ...   \n",
       "9994          GET /blog/tags/puppet?flav=rss20 HTTP/1.1          200   \n",
       "9995  GET /blog/geekery/solving-good-or-bad-problems...          200   \n",
       "9996                           GET /?flav=atom HTTP/1.1          200   \n",
       "9997                           GET /robots.txt HTTP/1.1          200   \n",
       "9998          GET /blog/tags/puppet?flav=rss20 HTTP/1.1          200   \n",
       "\n",
       "      Return Size                                            Referer  \\\n",
       "0          203023  http://semicomplete.com/presentations/logstash...   \n",
       "1          171717  http://semicomplete.com/presentations/logstash...   \n",
       "2           26185  http://semicomplete.com/presentations/logstash...   \n",
       "3            7697  http://semicomplete.com/presentations/logstash...   \n",
       "4            2892  http://semicomplete.com/presentations/logstash...   \n",
       "...           ...                                                ...   \n",
       "9994        14872  http://www.semicomplete.com/blog/tags/puppet?f...   \n",
       "9995        10756                                                  -   \n",
       "9996        32352                                                  -   \n",
       "9997            0                                                  -   \n",
       "9998        14872                                                  -   \n",
       "\n",
       "                                             User Agent  \n",
       "0     Mozilla/5.0 (Macintosh; Intel Mac OS X 10_9_1)...  \n",
       "1     Mozilla/5.0 (Macintosh; Intel Mac OS X 10_9_1)...  \n",
       "2     Mozilla/5.0 (Macintosh; Intel Mac OS X 10_9_1)...  \n",
       "3     Mozilla/5.0 (Macintosh; Intel Mac OS X 10_9_1)...  \n",
       "4     Mozilla/5.0 (Macintosh; Intel Mac OS X 10_9_1)...  \n",
       "...                                                 ...  \n",
       "9994            Tiny Tiny RSS/1.11 (http://tt-rss.org/)  \n",
       "9995            Tiny Tiny RSS/1.11 (http://tt-rss.org/)  \n",
       "9996  Mozilla/5.0 (compatible; Googlebot/2.1; +http:...  \n",
       "9997  Mozilla/5.0 (Windows NT 5.1; rv:6.0.2) Gecko/2...  \n",
       "9998  UniversalFeedParser/4.2-pre-314-svn +http://fe...  \n",
       "\n",
       "[9999 rows x 7 columns]"
      ],
      "text/html": "<div>\n<style scoped>\n    .dataframe tbody tr th:only-of-type {\n        vertical-align: middle;\n    }\n\n    .dataframe tbody tr th {\n        vertical-align: top;\n    }\n\n    .dataframe thead th {\n        text-align: right;\n    }\n</style>\n<table border=\"1\" class=\"dataframe\">\n  <thead>\n    <tr style=\"text-align: right;\">\n      <th></th>\n      <th>IP</th>\n      <th>Timestamp</th>\n      <th>URL</th>\n      <th>Status Code</th>\n      <th>Return Size</th>\n      <th>Referer</th>\n      <th>User Agent</th>\n    </tr>\n  </thead>\n  <tbody>\n    <tr>\n      <th>0</th>\n      <td>83.149.9.216</td>\n      <td>17/May/2015:10:05:03 +0000</td>\n      <td>GET /presentations/logstash-monitorama-2013/im...</td>\n      <td>200</td>\n      <td>203023</td>\n      <td>http://semicomplete.com/presentations/logstash...</td>\n      <td>Mozilla/5.0 (Macintosh; Intel Mac OS X 10_9_1)...</td>\n    </tr>\n    <tr>\n      <th>1</th>\n      <td>83.149.9.216</td>\n      <td>17/May/2015:10:05:43 +0000</td>\n      <td>GET /presentations/logstash-monitorama-2013/im...</td>\n      <td>200</td>\n      <td>171717</td>\n      <td>http://semicomplete.com/presentations/logstash...</td>\n      <td>Mozilla/5.0 (Macintosh; Intel Mac OS X 10_9_1)...</td>\n    </tr>\n    <tr>\n      <th>2</th>\n      <td>83.149.9.216</td>\n      <td>17/May/2015:10:05:47 +0000</td>\n      <td>GET /presentations/logstash-monitorama-2013/pl...</td>\n      <td>200</td>\n      <td>26185</td>\n      <td>http://semicomplete.com/presentations/logstash...</td>\n      <td>Mozilla/5.0 (Macintosh; Intel Mac OS X 10_9_1)...</td>\n    </tr>\n    <tr>\n      <th>3</th>\n      <td>83.149.9.216</td>\n      <td>17/May/2015:10:05:12 +0000</td>\n      <td>GET /presentations/logstash-monitorama-2013/pl...</td>\n      <td>200</td>\n      <td>7697</td>\n      <td>http://semicomplete.com/presentations/logstash...</td>\n      <td>Mozilla/5.0 (Macintosh; Intel Mac OS X 10_9_1)...</td>\n    </tr>\n    <tr>\n      <th>4</th>\n      <td>83.149.9.216</td>\n      <td>17/May/2015:10:05:07 +0000</td>\n      <td>GET /presentations/logstash-monitorama-2013/pl...</td>\n      <td>200</td>\n      <td>2892</td>\n      <td>http://semicomplete.com/presentations/logstash...</td>\n      <td>Mozilla/5.0 (Macintosh; Intel Mac OS X 10_9_1)...</td>\n    </tr>\n    <tr>\n      <th>...</th>\n      <td>...</td>\n      <td>...</td>\n      <td>...</td>\n      <td>...</td>\n      <td>...</td>\n      <td>...</td>\n      <td>...</td>\n    </tr>\n    <tr>\n      <th>9994</th>\n      <td>63.140.98.80</td>\n      <td>20/May/2015:21:05:28 +0000</td>\n      <td>GET /blog/tags/puppet?flav=rss20 HTTP/1.1</td>\n      <td>200</td>\n      <td>14872</td>\n      <td>http://www.semicomplete.com/blog/tags/puppet?f...</td>\n      <td>Tiny Tiny RSS/1.11 (http://tt-rss.org/)</td>\n    </tr>\n    <tr>\n      <th>9995</th>\n      <td>63.140.98.80</td>\n      <td>20/May/2015:21:05:50 +0000</td>\n      <td>GET /blog/geekery/solving-good-or-bad-problems...</td>\n      <td>200</td>\n      <td>10756</td>\n      <td>-</td>\n      <td>Tiny Tiny RSS/1.11 (http://tt-rss.org/)</td>\n    </tr>\n    <tr>\n      <th>9996</th>\n      <td>66.249.73.135</td>\n      <td>20/May/2015:21:05:00 +0000</td>\n      <td>GET /?flav=atom HTTP/1.1</td>\n      <td>200</td>\n      <td>32352</td>\n      <td>-</td>\n      <td>Mozilla/5.0 (compatible; Googlebot/2.1; +http:...</td>\n    </tr>\n    <tr>\n      <th>9997</th>\n      <td>180.76.6.56</td>\n      <td>20/May/2015:21:05:56 +0000</td>\n      <td>GET /robots.txt HTTP/1.1</td>\n      <td>200</td>\n      <td>0</td>\n      <td>-</td>\n      <td>Mozilla/5.0 (Windows NT 5.1; rv:6.0.2) Gecko/2...</td>\n    </tr>\n    <tr>\n      <th>9998</th>\n      <td>46.105.14.53</td>\n      <td>20/May/2015:21:05:15 +0000</td>\n      <td>GET /blog/tags/puppet?flav=rss20 HTTP/1.1</td>\n      <td>200</td>\n      <td>14872</td>\n      <td>-</td>\n      <td>UniversalFeedParser/4.2-pre-314-svn +http://fe...</td>\n    </tr>\n  </tbody>\n</table>\n<p>9999 rows × 7 columns</p>\n</div>"
     },
     "metadata": {},
     "execution_count": 42
    }
   ],
   "source": [
    "# Creating initial dataframe\n",
    "\n",
    "initial_data = pd.DataFrame(extract_data(\"access2.log\"))\n",
    "initial_data"
   ]
  },
  {
   "cell_type": "code",
   "execution_count": 43,
   "metadata": {},
   "outputs": [],
   "source": [
    "# Saving parsed web logs\n",
    "\n",
    "initial_data.to_csv('parsed.csv',index=False)"
   ]
  },
  {
   "source": [
    "# Feature Engineering\n",
    "The following features were extracted: \n",
    "\n",
    "1. Total number of request made per IP\n",
    "2. Time difference between successive request\n",
    "3. Number of successful request\n",
    "4. Number of GET requests\n",
    "5. Return Size\n",
    "6. Number of requests per day\n"
   ],
   "cell_type": "markdown",
   "metadata": {}
  },
  {
   "cell_type": "code",
   "execution_count": 44,
   "metadata": {},
   "outputs": [],
   "source": [
    "# Number of requests per IP\n",
    "\n",
    "ip_req = initial_data.groupby('IP')['Timestamp'].count()\n",
    "\n",
    "def req_count(row):\n",
    "    return ip_req[row['IP']]\n",
    "\n",
    "initial_data['Total Requests'] = initial_data.apply(req_count,axis=1)"
   ]
  },
  {
   "cell_type": "code",
   "execution_count": 45,
   "metadata": {},
   "outputs": [],
   "source": [
    "# Convert Timestamp to DateTime type\n",
    "times = initial_data['Timestamp']\n",
    "times = times.str.split(' ',expand=True)\n",
    "times = times[0]\n",
    "initial_data['Timestamp'] = pd.to_datetime(times,format=\"%d/%b/%Y:%H:%M:%S\")\n"
   ]
  },
  {
   "cell_type": "code",
   "execution_count": 46,
   "metadata": {},
   "outputs": [],
   "source": [
    "# Adding time related features\n",
    "\n",
    "initial_data['Date'] = initial_data['Timestamp'].dt.date\n",
    "initial_data.sort_values(['IP', 'Timestamp'], inplace=True)\n",
    "initial_data['Previous Request'] = initial_data.groupby(['IP'])['Timestamp'].shift(1)\n",
    "initial_data['Successive Req Diff'] = (initial_data['Timestamp'] - initial_data['Previous Request']).dt.seconds"
   ]
  },
  {
   "cell_type": "code",
   "execution_count": 47,
   "metadata": {},
   "outputs": [],
   "source": [
    "# Get request and status code labels\n",
    "\n",
    "initial_data['GET'] = initial_data['URL'].apply(lambda u: int(\"GET\" in u[:4]))\n",
    "initial_data['Success'] = initial_data['Status Code'].apply(lambda s: int((s<=299) and (s>=200)))\n"
   ]
  },
  {
   "source": [
    "## Preparation of final dataset\n"
   ],
   "cell_type": "markdown",
   "metadata": {}
  },
  {
   "cell_type": "code",
   "execution_count": 52,
   "metadata": {},
   "outputs": [],
   "source": [
    "# Prepare final dataset\n",
    "final_data = pd.DataFrame(initial_data.groupby('IP')['Timestamp'].count())\n",
    "final_data.columns = ['Total Requests']\n",
    "final_data = final_data.reset_index()\n",
    "\n",
    "# Finding Requests per day\n",
    "daily_count = initial_data.groupby(['IP','Date'])['Timestamp'].count().reset_index()\n",
    "daily_count_aggregate = daily_count.groupby('IP').mean()\n",
    "daily_count_aggregate.columns = ['Mean']\n",
    "final_data['Daily Mean'] = final_data['IP'].apply(lambda ip: daily_count_aggregate.loc[ip]['Mean'])\n",
    "\n",
    "# Number of GET requests and success codes\n",
    "get_request = initial_data.groupby(['IP'])['GET'].sum()\n",
    "successes = initial_data.groupby('IP')['Success'].sum()\n",
    "final_data['GET requests'] = final_data['IP'].apply(lambda ip: get_request.loc[ip])\n",
    "final_data['Successful requests'] = final_data['IP'].apply(lambda ip: successes.loc[ip])\n",
    "\n",
    "# Response size \n",
    "return_size_mean = initial_data.groupby('IP')['Return Size'].mean().fillna(0)\n",
    "return_size_std = initial_data.groupby('IP')['Return Size'].std().fillna(0)\n",
    "final_data['Mean Return Size'] = final_data['IP'].apply(lambda ip: return_size_mean.loc[ip])\n",
    "final_data['Return Size Std'] = final_data['IP'].apply(lambda ip: return_size_std.loc[ip])\n",
    "\n",
    "# Time difference between successive requests\n",
    "time_difference = initial_data.groupby('IP')['Successive Req Diff'].mean().fillna(0)\n",
    "final_data['Mean Time Difference'] = final_data['IP'].apply(lambda ip: time_difference.loc[ip])\n"
   ]
  },
  {
   "cell_type": "code",
   "execution_count": 49,
   "metadata": {},
   "outputs": [],
   "source": [
    "final_data.to_csv('finaldata.csv',index=False)"
   ]
  }
 ]
}