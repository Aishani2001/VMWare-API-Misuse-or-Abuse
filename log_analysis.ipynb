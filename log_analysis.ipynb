{
 "metadata": {
  "language_info": {
   "codemirror_mode": {
    "name": "ipython",
    "version": 3
   },
   "file_extension": ".py",
   "mimetype": "text/x-python",
   "name": "python",
   "nbconvert_exporter": "python",
   "pygments_lexer": "ipython3",
   "version": "3.8.6"
  },
  "orig_nbformat": 2,
  "kernelspec": {
   "name": "python386jvsc74a57bd0c6fe1be81ad7448fbfe4e92810da5bfb9fe08ec651b6d7af84a883b769fff80b",
   "display_name": "Python 3.8.6 64-bit ('APIMisuse-PpJxQITT': pipenv)"
  }
 },
 "nbformat": 4,
 "nbformat_minor": 2,
 "cells": [
  {
   "cell_type": "code",
   "execution_count": 1,
   "metadata": {},
   "outputs": [],
   "source": [
    "import numpy as np\n",
    "import pandas as pd\n",
    "import re\n",
    "import datetime as dt\n",
    "from utilities import extract_data"
   ]
  },
  {
   "source": [
    "# Data Preprocessing\n",
    "Access logs were read and parsed based on the format. Extracted features:\n",
    "\n",
    "1. IP\n",
    "2. Timestamp\n",
    "3. Request URL \n",
    "4. Status Code\n",
    "5. Return Size\n",
    "6. Referer\n",
    "7. User Agent"
   ],
   "cell_type": "markdown",
   "metadata": {}
  },
  {
   "cell_type": "code",
   "execution_count": 2,
   "metadata": {
    "tags": []
   },
   "outputs": [],
   "source": [
    "# Creating initial dataframe\n",
    "\n",
    "initial_data = pd.DataFrame(extract_data(\"accesslogs.log\"))"
   ]
  },
  {
   "cell_type": "code",
   "execution_count": 3,
   "metadata": {},
   "outputs": [],
   "source": [
    "# Saving parsed web logs\n",
    "\n",
    "initial_data.to_csv('parsed.csv',index=False)"
   ]
  },
  {
   "source": [
    "# Feature Engineering\n",
    "The following features were extracted: \n",
    "\n",
    "1. Total number of request made per IP\n",
    "2. Time difference between successive request"
   ],
   "cell_type": "markdown",
   "metadata": {}
  },
  {
   "cell_type": "code",
   "execution_count": 4,
   "metadata": {},
   "outputs": [],
   "source": [
    "# Number of requests per IP\n",
    "\n",
    "ip_req = initial_data.groupby('IP')['Timestamp'].count()\n",
    "\n",
    "def req_count(row):\n",
    "    return ip_req[row['IP']]\n",
    "\n",
    "initial_data['Total Requests'] = initial_data.apply(req_count,axis=1)\n"
   ]
  },
  {
   "cell_type": "code",
   "execution_count": 5,
   "metadata": {},
   "outputs": [],
   "source": [
    "# Convert Timestamp to DateTime type\n",
    "times = initial_data['Timestamp']\n",
    "times = times.str.split(' ',expand=True)\n",
    "times = times[0]\n",
    "initial_data['Timestamp'] = pd.to_datetime(times,format=\"%d/%b/%Y:%H:%M:%S\")\n"
   ]
  },
  {
   "cell_type": "code",
   "execution_count": 6,
   "metadata": {},
   "outputs": [],
   "source": [
    "# Adding time related features\n",
    "\n",
    "initial_data['Date'] = initial_data['Timestamp'].dt.date\n",
    "initial_data.sort_values(['IP', 'Timestamp'], inplace=True)\n",
    "initial_data['Previous Request'] = initial_data.groupby(['IP'])['Timestamp'].shift(1)\n",
    "initial_data['Successive Req Diff'] = (initial_data['Timestamp'] - initial_data['Previous Request']).dt.seconds"
   ]
  }
 ]
}