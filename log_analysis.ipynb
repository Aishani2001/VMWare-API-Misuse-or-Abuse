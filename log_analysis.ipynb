{
 "metadata": {
  "language_info": {
   "codemirror_mode": {
    "name": "ipython",
    "version": 3
   },
   "file_extension": ".py",
   "mimetype": "text/x-python",
   "name": "python",
   "nbconvert_exporter": "python",
   "pygments_lexer": "ipython3",
   "version": "3.8.6"
  },
  "orig_nbformat": 2,
  "kernelspec": {
   "name": "python386jvsc74a57bd0c6fe1be81ad7448fbfe4e92810da5bfb9fe08ec651b6d7af84a883b769fff80b",
   "display_name": "Python 3.8.6 64-bit ('APIMisuse-PpJxQITT': pipenv)"
  }
 },
 "nbformat": 4,
 "nbformat_minor": 2,
 "cells": [
  {
   "cell_type": "code",
   "execution_count": 1,
   "metadata": {},
   "outputs": [],
   "source": [
    "import numpy as np\n",
    "import pandas as pd\n",
    "import re\n",
    "import datetime as dt\n",
    "from utilities import extract_data"
   ]
  },
  {
   "source": [
    "# Data Preprocessing\n",
    "Access logs were read and parsed based on the format. Extracted features:\n",
    "\n",
    "1. IP\n",
    "2. Timestamp\n",
    "3. Request URL \n",
    "4. Status Code\n",
    "5. Return Size\n",
    "6. Referer\n",
    "7. User Agent"
   ],
   "cell_type": "markdown",
   "metadata": {}
  },
  {
   "cell_type": "code",
   "execution_count": 2,
   "metadata": {
    "tags": []
   },
   "outputs": [],
   "source": [
    "# Creating initial dataframe\n",
    "\n",
    "initial_data = pd.DataFrame(extract_data(\"accesslogs.log\"))"
   ]
  },
  {
   "cell_type": "code",
   "execution_count": 3,
   "metadata": {},
   "outputs": [],
   "source": [
    "# Saving parsed web logs\n",
    "\n",
    "initial_data.to_csv('parsed.csv',index=False)"
   ]
  },
  {
   "source": [
    "# Feature Engineering\n",
    "The following features were extracted: \n",
    "\n",
    "1. Total number of request made per IP\n",
    "2. Time difference between successive request\n",
    "3. Number of successful request\n",
    "4. Number of GET requests\n",
    "5. Return Size\n",
    "6. Number of requests per day\n"
   ],
   "cell_type": "markdown",
   "metadata": {}
  },
  {
   "cell_type": "code",
   "execution_count": 4,
   "metadata": {},
   "outputs": [],
   "source": [
    "# Number of requests per IP\n",
    "\n",
    "ip_req = initial_data.groupby('IP')['Timestamp'].count()\n",
    "\n",
    "def req_count(row):\n",
    "    return ip_req[row['IP']]\n",
    "\n",
    "initial_data['Total Requests'] = initial_data.apply(req_count,axis=1)"
   ]
  },
  {
   "cell_type": "code",
   "execution_count": 5,
   "metadata": {},
   "outputs": [],
   "source": [
    "# Convert Timestamp to DateTime type\n",
    "times = initial_data['Timestamp']\n",
    "times = times.str.split(' ',expand=True)\n",
    "times = times[0]\n",
    "initial_data['Timestamp'] = pd.to_datetime(times,format=\"%d/%b/%Y:%H:%M:%S\")\n"
   ]
  },
  {
   "cell_type": "code",
   "execution_count": 6,
   "metadata": {},
   "outputs": [],
   "source": [
    "# Adding time related features\n",
    "\n",
    "initial_data['Date'] = initial_data['Timestamp'].dt.date\n",
    "initial_data.sort_values(['IP', 'Timestamp'], inplace=True)\n",
    "initial_data['Previous Request'] = initial_data.groupby(['IP'])['Timestamp'].shift(1)\n",
    "initial_data['Successive Req Diff'] = (initial_data['Timestamp'] - initial_data['Previous Request']).dt.seconds"
   ]
  },
  {
   "cell_type": "code",
   "execution_count": 7,
   "metadata": {},
   "outputs": [],
   "source": [
    "# Get request and status code labels\n",
    "\n",
    "initial_data['GET'] = initial_data['URL'].apply(lambda u: int(\"GET\" in u[:4]))\n",
    "initial_data['Success'] = initial_data['Status Code'].apply(lambda s: int((s<=299) and (s>=200)))\n"
   ]
  },
  {
   "source": [
    "## Preparation of final dataset\n"
   ],
   "cell_type": "markdown",
   "metadata": {}
  },
  {
   "cell_type": "code",
   "execution_count": 85,
   "metadata": {},
   "outputs": [],
   "source": [
    "# Prepare final dataset\n",
    "final_data = pd.DataFrame(initial_data.groupby('IP')['Timestamp'].count())\n",
    "final_data.columns = ['Total Requests']\n",
    "final_data = final_data.reset_index()\n",
    "\n",
    "# Finding Requests per day\n",
    "daily_count = initial_data.groupby(['IP','Date'])['Timestamp'].count().reset_index()\n",
    "daily_count_aggregate = daily_count.groupby('IP').mean()\n",
    "daily_count_aggregate.columns = ['Mean']\n",
    "final_data['Daily Mean'] = final_data['IP'].apply(lambda ip: daily_count_aggregate.loc[ip]['Mean'])\n",
    "\n",
    "# Number of GET requests and success codes\n",
    "get_request = initial_data.groupby(['IP'])['GET'].sum()\n",
    "successes = initial_data.groupby('IP')['Success'].sum()\n",
    "final_data['GET requests'] = final_data['IP'].apply(lambda ip: get_request.loc[ip])\n",
    "final_data['Successful requests'] = final_data['IP'].apply(lambda ip: successes.loc[ip])\n",
    "\n",
    "# Response size \n",
    "return_size_mean = initial_data.groupby('IP')['Return Size'].mean().fillna(0)\n",
    "return_size_std = initial_data.groupby('IP')['Return Size'].std().fillna(0)\n",
    "final_data['Mean Return Size'] = final_data['IP'].apply(lambda ip: return_size_mean.loc[ip])\n",
    "final_data['Return Size Std'] = final_data['IP'].apply(lambda ip: return_size_std.loc[ip])\n",
    "\n",
    "# Time difference between successive requests\n",
    "time_difference = initial_data.groupby('IP')['Successive Req Diff'].mean().fillna(0)\n",
    "final_data['Mean Time Difference'] = final_data['IP'].apply(lambda ip: time_difference.loc[ip])\n"
   ]
  },
  {
   "cell_type": "code",
   "execution_count": 88,
   "metadata": {},
   "outputs": [],
   "source": [
    "final_data.to_csv('finaldata.csv',index=False)"
   ]
  }
 ]
}